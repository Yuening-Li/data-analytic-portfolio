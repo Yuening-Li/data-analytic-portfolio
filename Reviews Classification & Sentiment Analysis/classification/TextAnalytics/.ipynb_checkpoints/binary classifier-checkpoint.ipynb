{
 "cells": [
  {
   "cell_type": "markdown",
   "metadata": {},
   "source": [
    "# Binary Classifier\n",
    "`sklearn GaussianNB`"
   ]
  },
  {
   "cell_type": "code",
   "execution_count": 1,
   "metadata": {},
   "outputs": [],
   "source": [
    "# import classifier modules\n",
    "from sklearn.model_selection import train_test_split\n",
    "from sklearn.feature_extraction.text import CountVectorizer\n",
    "from sklearn.feature_extraction.text import TfidfTransformer\n",
    "from sklearn.naive_bayes import GaussianNB\n",
    "from sklearn.feature_extraction.text import TfidfVectorizer  \n",
    "\n",
    "# import other modules\n",
    "import pandas as pd\n",
    "import json\n",
    "from pandas.io.json import json_normalize"
   ]
  },
  {
   "cell_type": "code",
   "execution_count": 2,
   "metadata": {},
   "outputs": [],
   "source": [
    "with open('REJ_data/all.json', encoding='utf-8-sig') as json_file:\n",
    "    train = json.load(json_file)\n",
    "    \n",
    "ALL = pd.DataFrame.from_dict(json_normalize(train), orient='columns')"
   ]
  },
  {
   "cell_type": "code",
   "execution_count": 19,
   "metadata": {},
   "outputs": [],
   "source": [
    "reviewed = pd.read_csv('labelled.csv')"
   ]
  },
  {
   "cell_type": "code",
   "execution_count": 4,
   "metadata": {},
   "outputs": [],
   "source": [
    "df = pd.read_csv('dataset3_with_nlp_techniques.csv')"
   ]
  },
  {
   "cell_type": "markdown",
   "metadata": {},
   "source": [
    "### 1. TF-IDF "
   ]
  },
  {
   "cell_type": "code",
   "execution_count": 20,
   "metadata": {},
   "outputs": [],
   "source": [
    "# make bow of test data\n",
    "from sklearn.feature_extraction.text import TfidfTransformer\n",
    "vectorizer = TfidfVectorizer(use_idf = True)  \n",
    "\n",
    "x = vectorizer.fit_transform(ALL.comment).toarray()\n",
    "y = ALL.label\n",
    "\n",
    "# train the classifier\n",
    "g = GaussianNB()  \n",
    "g = g.fit(x, y)  \n",
    "\n",
    "\n",
    "# predict on test data\n",
    "def binary_class(x):\n",
    "    p = vectorizer.transform([x]).toarray()\n",
    "    return g.predict(p)\n",
    "    \n",
    "\n",
    "binary_pred = pd.DataFrame({'review' : df.processed_text, 'label' : reviewed.label})\n",
    "binary_pred['tf-idf'] = df.processed_text.map(lambda x: binary_class(x))\n"
   ]
  },
  {
   "cell_type": "markdown",
   "metadata": {},
   "source": [
    "### 2. TF-IDF - stop words"
   ]
  },
  {
   "cell_type": "code",
   "execution_count": 21,
   "metadata": {},
   "outputs": [],
   "source": [
    "# train on stop words removal\n",
    "x = vectorizer.fit_transform(ALL.stopwords_removal).toarray()\n",
    "y = ALL.label\n",
    "\n",
    "# train the classifier\n",
    "g = GaussianNB()  \n",
    "g = g.fit(x, y)  \n",
    "\n",
    "def binary_class2(x):\n",
    "    p = vectorizer.transform(x).toarray()\n",
    "    return g.predict(p)\n",
    "\n",
    "# make our stopwords col full sentence\n",
    "df.stopword = df.stopword.map(lambda x: ' '.join(x))\n",
    "\n",
    "# predict\n",
    "binary_pred['tf-idf-stopwords'] = df.stopword.map(lambda x: binary_class(x))"
   ]
  },
  {
   "cell_type": "markdown",
   "metadata": {},
   "source": [
    "### 3. TF-IDF + Lemmatization"
   ]
  },
  {
   "cell_type": "code",
   "execution_count": 22,
   "metadata": {},
   "outputs": [],
   "source": [
    "# train on lemmatized removal\n",
    "x = vectorizer.fit_transform(ALL.lemmatized_comment).toarray()\n",
    "y = ALL.label\n",
    "\n",
    "# train the classifier\n",
    "g = GaussianNB()  \n",
    "g = g.fit(x, y)  \n",
    "\n",
    "# make our lemmatizer col full sentence\n",
    "df.lemmatizer = df.lemmatizer.map(lambda x: ' '.join(x))\n",
    "\n",
    "# predict\n",
    "binary_pred['tf-idf+lemmatizer'] = df.lemmatizer.map(lambda x: binary_class(x))"
   ]
  },
  {
   "cell_type": "markdown",
   "metadata": {},
   "source": [
    "### 4. Bigrams"
   ]
  },
  {
   "cell_type": "code",
   "execution_count": 23,
   "metadata": {},
   "outputs": [],
   "source": [
    "# train on lemmatized removal\n",
    "x = vectorizer.fit_transform(ALL.lemmatized_comment).toarray()\n",
    "y = ALL.label\n",
    "\n",
    "# train the classifier\n",
    "g = GaussianNB()  \n",
    "g = g.fit(x, y)  \n",
    "\n",
    "# make our lemmatizer col full sentence\n",
    "df.lemmatizer = df.lemmatizer.map(lambda x: ' '.join(x))\n",
    "\n",
    "# predict\n",
    "binary_pred['tf-idf+lemmatizer'] = df.lemmatizer.map(lambda x: binary_class(x))"
   ]
  },
  {
   "cell_type": "code",
   "execution_count": 24,
   "metadata": {},
   "outputs": [
    {
     "data": {
      "text/html": [
       "<div>\n",
       "<style scoped>\n",
       "    .dataframe tbody tr th:only-of-type {\n",
       "        vertical-align: middle;\n",
       "    }\n",
       "\n",
       "    .dataframe tbody tr th {\n",
       "        vertical-align: top;\n",
       "    }\n",
       "\n",
       "    .dataframe thead th {\n",
       "        text-align: right;\n",
       "    }\n",
       "</style>\n",
       "<table border=\"1\" class=\"dataframe\">\n",
       "  <thead>\n",
       "    <tr style=\"text-align: right;\">\n",
       "      <th></th>\n",
       "      <th>review</th>\n",
       "      <th>label</th>\n",
       "      <th>tf-idf</th>\n",
       "      <th>tf-idf-stopwords</th>\n",
       "      <th>tf-idf+lemmatizer</th>\n",
       "    </tr>\n",
       "  </thead>\n",
       "  <tbody>\n",
       "    <tr>\n",
       "      <td>0</td>\n",
       "      <td>A great game to be during times  Nice</td>\n",
       "      <td>Rating</td>\n",
       "      <td>Feature</td>\n",
       "      <td>Feature</td>\n",
       "      <td>Feature</td>\n",
       "    </tr>\n",
       "    <tr>\n",
       "      <td>1</td>\n",
       "      <td>I truly love pandora</td>\n",
       "      <td>UserExperience</td>\n",
       "      <td>Feature</td>\n",
       "      <td>Feature</td>\n",
       "      <td>Feature</td>\n",
       "    </tr>\n",
       "    <tr>\n",
       "      <td>2</td>\n",
       "      <td>I need all the help I need 5ft and I need to l...</td>\n",
       "      <td>UserExperience</td>\n",
       "      <td>UserExperience</td>\n",
       "      <td>Feature</td>\n",
       "      <td>Feature</td>\n",
       "    </tr>\n",
       "    <tr>\n",
       "      <td>3</td>\n",
       "      <td>it  s not great but it  s good</td>\n",
       "      <td>Rating</td>\n",
       "      <td>Feature</td>\n",
       "      <td>Feature</td>\n",
       "      <td>Feature</td>\n",
       "    </tr>\n",
       "    <tr>\n",
       "      <td>4</td>\n",
       "      <td>I think this is cool this is learning and and ...</td>\n",
       "      <td>UserExperience</td>\n",
       "      <td>UserExperience</td>\n",
       "      <td>Feature</td>\n",
       "      <td>Feature</td>\n",
       "    </tr>\n",
       "    <tr>\n",
       "      <td>...</td>\n",
       "      <td>...</td>\n",
       "      <td>...</td>\n",
       "      <td>...</td>\n",
       "      <td>...</td>\n",
       "      <td>...</td>\n",
       "    </tr>\n",
       "    <tr>\n",
       "      <td>379</td>\n",
       "      <td>Really good for</td>\n",
       "      <td>Rating</td>\n",
       "      <td>Feature</td>\n",
       "      <td>Feature</td>\n",
       "      <td>Feature</td>\n",
       "    </tr>\n",
       "    <tr>\n",
       "      <td>380</td>\n",
       "      <td>It is my first time to use this  see who it is</td>\n",
       "      <td>UserExperience</td>\n",
       "      <td>Feature</td>\n",
       "      <td>Feature</td>\n",
       "      <td>Feature</td>\n",
       "    </tr>\n",
       "    <tr>\n",
       "      <td>381</td>\n",
       "      <td>I love it</td>\n",
       "      <td>Rating</td>\n",
       "      <td>Feature</td>\n",
       "      <td>Feature</td>\n",
       "      <td>Feature</td>\n",
       "    </tr>\n",
       "    <tr>\n",
       "      <td>382</td>\n",
       "      <td>fun fact it  s fun</td>\n",
       "      <td>Rating</td>\n",
       "      <td>Feature</td>\n",
       "      <td>Feature</td>\n",
       "      <td>Feature</td>\n",
       "    </tr>\n",
       "    <tr>\n",
       "      <td>383</td>\n",
       "      <td>I dont stay in and wont work everyday  I love ...</td>\n",
       "      <td>UserExperience</td>\n",
       "      <td>Bug</td>\n",
       "      <td>Feature</td>\n",
       "      <td>Feature</td>\n",
       "    </tr>\n",
       "  </tbody>\n",
       "</table>\n",
       "<p>384 rows × 5 columns</p>\n",
       "</div>"
      ],
      "text/plain": [
       "                                                review           label  \\\n",
       "0                A great game to be during times  Nice          Rating   \n",
       "1                                 I truly love pandora  UserExperience   \n",
       "2    I need all the help I need 5ft and I need to l...  UserExperience   \n",
       "3                       it  s not great but it  s good          Rating   \n",
       "4    I think this is cool this is learning and and ...  UserExperience   \n",
       "..                                                 ...             ...   \n",
       "379                                   Really good for           Rating   \n",
       "380   It is my first time to use this  see who it is    UserExperience   \n",
       "381                                          I love it          Rating   \n",
       "382                                 fun fact it  s fun          Rating   \n",
       "383  I dont stay in and wont work everyday  I love ...  UserExperience   \n",
       "\n",
       "             tf-idf tf-idf-stopwords tf-idf+lemmatizer  \n",
       "0           Feature          Feature           Feature  \n",
       "1           Feature          Feature           Feature  \n",
       "2    UserExperience          Feature           Feature  \n",
       "3           Feature          Feature           Feature  \n",
       "4    UserExperience          Feature           Feature  \n",
       "..              ...              ...               ...  \n",
       "379         Feature          Feature           Feature  \n",
       "380         Feature          Feature           Feature  \n",
       "381         Feature          Feature           Feature  \n",
       "382         Feature          Feature           Feature  \n",
       "383             Bug          Feature           Feature  \n",
       "\n",
       "[384 rows x 5 columns]"
      ]
     },
     "execution_count": 24,
     "metadata": {},
     "output_type": "execute_result"
    }
   ],
   "source": [
    "binary_pred['tf-idf'] = binary_pred['tf-idf'].apply(''.join)\n",
    "binary_pred['tf-idf+lemmatizer'] = binary_pred['tf-idf+lemmatizer'].apply(''.join)\n",
    "binary_pred['tf-idf-stopwords'] = binary_pred['tf-idf-stopwords'].apply(''.join)\n",
    "binary_pred"
   ]
  },
  {
   "cell_type": "markdown",
   "metadata": {},
   "source": [
    "### metrics"
   ]
  },
  {
   "cell_type": "code",
   "execution_count": 14,
   "metadata": {},
   "outputs": [],
   "source": [
    "from sklearn.metrics import *\n",
    "import csv\n",
    "\n",
    "\n",
    "y_true = binary_pred.label\n",
    "y_pred = binary_pred['tf-idf']\n",
    "\n",
    "# tf-idf\n",
    "prec = precision_score(y_true, y_pred, average = \"micro\")\n",
    "recall = recall_score(y_true, y_pred, average = \"micro\")\n",
    "f = precision_recall_fscore_support(y_true, y_pred, average = \"micro\")\n",
    "\n",
    "# tf-idf-stopwords\n",
    "prec2 = precision_score(y_true, binary_pred['tf-idf-stopwords'], average = \"micro\")\n",
    "recall2 = recall_score(y_true, binary_pred['tf-idf-stopwords'], average = \"micro\")\n",
    "f2 = precision_recall_fscore_support(y_true, binary_pred['tf-idf-stopwords'], average = \"micro\")\n",
    "\n",
    "\n",
    "# tf-idf+lemma\n",
    "prec3 = precision_score(y_true, binary_pred['tf-idf+lemmatizer'], average = \"micro\")\n",
    "recall3 = recall_score(y_true, binary_pred['tf-idf+lemmatizer'], average = \"micro\")\n",
    "f3 = precision_recall_fscore_support(y_true, binary_pred['tf-idf+lemmatizer'], average = 'micro')\n"
   ]
  },
  {
   "cell_type": "code",
   "execution_count": 15,
   "metadata": {
    "scrolled": true
   },
   "outputs": [
    {
     "data": {
      "text/html": [
       "<div>\n",
       "<style scoped>\n",
       "    .dataframe tbody tr th:only-of-type {\n",
       "        vertical-align: middle;\n",
       "    }\n",
       "\n",
       "    .dataframe tbody tr th {\n",
       "        vertical-align: top;\n",
       "    }\n",
       "\n",
       "    .dataframe thead th {\n",
       "        text-align: right;\n",
       "    }\n",
       "</style>\n",
       "<table border=\"1\" class=\"dataframe\">\n",
       "  <thead>\n",
       "    <tr style=\"text-align: right;\">\n",
       "      <th></th>\n",
       "      <th>technique</th>\n",
       "      <th>precision</th>\n",
       "      <th>recall</th>\n",
       "      <th>f1_score</th>\n",
       "    </tr>\n",
       "  </thead>\n",
       "  <tbody>\n",
       "    <tr>\n",
       "      <td>0</td>\n",
       "      <td>tf-idf</td>\n",
       "      <td>0.210938</td>\n",
       "      <td>0.210938</td>\n",
       "      <td>(0.2109375, 0.2109375, 0.2109375, None)</td>\n",
       "    </tr>\n",
       "    <tr>\n",
       "      <td>1</td>\n",
       "      <td>tf-idf-stopwords</td>\n",
       "      <td>0.078125</td>\n",
       "      <td>0.078125</td>\n",
       "      <td>(0.078125, 0.078125, 0.078125, None)</td>\n",
       "    </tr>\n",
       "    <tr>\n",
       "      <td>2</td>\n",
       "      <td>tf-idf+lemmatization</td>\n",
       "      <td>0.078125</td>\n",
       "      <td>0.078125</td>\n",
       "      <td>(0.078125, 0.078125, 0.078125, None)</td>\n",
       "    </tr>\n",
       "  </tbody>\n",
       "</table>\n",
       "</div>"
      ],
      "text/plain": [
       "              technique  precision    recall  \\\n",
       "0                tf-idf   0.210938  0.210938   \n",
       "1      tf-idf-stopwords   0.078125  0.078125   \n",
       "2  tf-idf+lemmatization   0.078125  0.078125   \n",
       "\n",
       "                                  f1_score  \n",
       "0  (0.2109375, 0.2109375, 0.2109375, None)  \n",
       "1     (0.078125, 0.078125, 0.078125, None)  \n",
       "2     (0.078125, 0.078125, 0.078125, None)  "
      ]
     },
     "execution_count": 15,
     "metadata": {},
     "output_type": "execute_result"
    }
   ],
   "source": [
    "\n",
    "pd.DataFrame({'technique' : ['tf-idf', 'tf-idf-stopwords', 'tf-idf+lemmatization'], \n",
    "              'precision' : [prec, prec2, prec3],\n",
    "            'recall' : [recall, recall2, recall3],\n",
    "             'f1_score' : [f, f2, f3]})"
   ]
  },
  {
   "cell_type": "code",
   "execution_count": 29,
   "metadata": {},
   "outputs": [
    {
     "data": {
      "text/plain": [
       "label\n",
       "Bug                48\n",
       "Feature            30\n",
       "Rating            221\n",
       "UserExperience     85\n",
       "Name: review, dtype: int64"
      ]
     },
     "execution_count": 29,
     "metadata": {},
     "output_type": "execute_result"
    }
   ],
   "source": [
    "binary_pred.groupby('label').count()['review']"
   ]
  },
  {
   "cell_type": "code",
   "execution_count": 30,
   "metadata": {},
   "outputs": [
    {
     "data": {
      "text/plain": [
       "tf-idf\n",
       "Bug                55\n",
       "Feature           201\n",
       "Rating             66\n",
       "UserExperience     62\n",
       "Name: review, dtype: int64"
      ]
     },
     "execution_count": 30,
     "metadata": {},
     "output_type": "execute_result"
    }
   ],
   "source": [
    "binary_pred.groupby('tf-idf').count()['review']"
   ]
  },
  {
   "cell_type": "code",
   "execution_count": 31,
   "metadata": {},
   "outputs": [
    {
     "data": {
      "text/plain": [
       "tf-idf-stopwords\n",
       "Feature    384\n",
       "Name: review, dtype: int64"
      ]
     },
     "execution_count": 31,
     "metadata": {},
     "output_type": "execute_result"
    }
   ],
   "source": [
    "binary_pred.groupby('tf-idf-stopwords').count()['review']"
   ]
  },
  {
   "cell_type": "code",
   "execution_count": 33,
   "metadata": {},
   "outputs": [
    {
     "data": {
      "text/plain": [
       "tf-idf+lemmatizer\n",
       "Feature    384\n",
       "Name: review, dtype: int64"
      ]
     },
     "execution_count": 33,
     "metadata": {},
     "output_type": "execute_result"
    }
   ],
   "source": [
    "binary_pred.groupby('tf-idf+lemmatizer').count()['review']"
   ]
  }
 ],
 "metadata": {
  "kernelspec": {
   "display_name": "Python 3",
   "language": "python",
   "name": "python3"
  },
  "language_info": {
   "codemirror_mode": {
    "name": "ipython",
    "version": 3
   },
   "file_extension": ".py",
   "mimetype": "text/x-python",
   "name": "python",
   "nbconvert_exporter": "python",
   "pygments_lexer": "ipython3",
   "version": "3.7.4"
  }
 },
 "nbformat": 4,
 "nbformat_minor": 2
}
