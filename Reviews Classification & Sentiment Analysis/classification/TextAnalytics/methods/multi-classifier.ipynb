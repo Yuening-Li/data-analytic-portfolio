{
 "cells": [
  {
   "cell_type": "code",
   "execution_count": 1,
   "metadata": {},
   "outputs": [],
   "source": [
    "import json\n",
    "import pandas as pd\n",
    "from pandas.io.json import json_normalize\n",
    "from sklearn.model_selection import train_test_split\n",
    "from sklearn.feature_extraction.text import CountVectorizer\n",
    "from nltk.stem import WordNetLemmatizer\n",
    "from nltk import word_tokenize\n",
    "from sklearn.feature_extraction.text import TfidfTransformer\n",
    "from sklearn.naive_bayes import MultinomialNB"
   ]
  },
  {
   "cell_type": "code",
   "execution_count": 2,
   "metadata": {
    "scrolled": true
   },
   "outputs": [
    {
     "name": "stdout",
     "output_type": "stream",
     "text": [
      "[Errno 2] No such file or directory: 'F:UBC_OkanaganCoursesDATA 553 Privacy, Security, and Professional Ethicsdata_553projectREJ_dataREJ_data'\n",
      "/Users/kt/Documents/UBC_MDS/block4/553/553proj/553project/methods\n"
     ]
    }
   ],
   "source": [
    "%cd F:\\UBC_Okanagan\\Courses\\DATA 553 Privacy, Security, and Professional Ethics\\data_553\\project\\REJ_data\\REJ_data"
   ]
  },
  {
   "cell_type": "code",
   "execution_count": 3,
   "metadata": {},
   "outputs": [],
   "source": [
    "import os\n",
    "os.chdir('/Users/kt/Documents/UBC_MDS/block4/553/553proj/553project/methods/data/')"
   ]
  },
  {
   "cell_type": "markdown",
   "metadata": {},
   "source": [
    "### Load Training and Testing data"
   ]
  },
  {
   "cell_type": "code",
   "execution_count": 4,
   "metadata": {},
   "outputs": [],
   "source": [
    "# training data\n",
    "with open('/Users/kt/Documents/UBC_MDS/block4/553/553proj/553project/methods/data/REJ_data/Feature_tt.json', encoding='utf-8-sig') as json_file:\n",
    "    json_data = json.load(json_file)\n",
    "    #alljson=json_data[0:400]"
   ]
  },
  {
   "cell_type": "code",
   "execution_count": 5,
   "metadata": {
    "scrolled": true
   },
   "outputs": [
    {
     "data": {
      "text/plain": [
       "(616, 24)"
      ]
     },
     "execution_count": 5,
     "metadata": {},
     "output_type": "execute_result"
    }
   ],
   "source": [
    "df=pd.DataFrame.from_dict(json_normalize(json_data), orient='columns')\n",
    "df.shape"
   ]
  },
  {
   "cell_type": "code",
   "execution_count": 6,
   "metadata": {},
   "outputs": [],
   "source": [
    "# Testing data\n",
    "p=pd.read_csv(\"/Users/kt/Documents/UBC_MDS/block4/553/553proj/553project/methods/data/Dataset3.csv\")"
   ]
  },
  {
   "cell_type": "markdown",
   "metadata": {},
   "source": [
    "### Train Classifier On Training Data"
   ]
  },
  {
   "cell_type": "code",
   "execution_count": 7,
   "metadata": {},
   "outputs": [],
   "source": [
    "class LemmaTokenizer:\n",
    "    def __init__(self):\n",
    "        self.wnl = WordNetLemmatizer()\n",
    "    def __call__(self, doc):\n",
    "        return [self.wnl.lemmatize(t) for t in word_tokenize(doc)]"
   ]
  },
  {
   "cell_type": "code",
   "execution_count": 8,
   "metadata": {},
   "outputs": [],
   "source": [
    "CUSTOM_STOPWORDS = ['i', 'me','up','my', 'myself', 'we', 'our', 'ours',\n",
    "                    'ourselves', 'you', 'your', 'yours','yourself', 'yourselves',\n",
    "                    'he', 'him', 'his', 'himself', 'she', 'her', 'hers' ,'herself',\n",
    "                    'it', 'its', 'itself', 'they', 'them', 'their', 'theirs',\n",
    "                    'themselves' ,'am', 'is', 'are','a', 'an', 'the', 'and','in',\n",
    "                    'out', 'on','up','down', 's', 't']"
   ]
  },
  {
   "cell_type": "code",
   "execution_count": 9,
   "metadata": {},
   "outputs": [],
   "source": [
    "X_t=df['comment']\n",
    "y_t=df['label']\n",
    "tfidf_transformer = TfidfTransformer()"
   ]
  },
  {
   "cell_type": "markdown",
   "metadata": {},
   "source": [
    "##### Classifier 1: Using [tfidf,  Lemmatizing, removing stop_words, bigram classification] techniques:"
   ]
  },
  {
   "cell_type": "code",
   "execution_count": 10,
   "metadata": {},
   "outputs": [],
   "source": [
    "count_vect = CountVectorizer(tokenizer=LemmaTokenizer(),stop_words =frozenset(CUSTOM_STOPWORDS),ngram_range=(2, 2))\n",
    "X_train_counts = count_vect.fit_transform(X_t)\n",
    "X_train_tfidf = tfidf_transformer.fit_transform(X_train_counts)\n",
    "clf = MultinomialNB().fit(X_train_tfidf, y_t)"
   ]
  },
  {
   "cell_type": "markdown",
   "metadata": {},
   "source": [
    "##### Classifier 2:  Using [tfidf] Classification Technique:"
   ]
  },
  {
   "cell_type": "code",
   "execution_count": 11,
   "metadata": {},
   "outputs": [],
   "source": [
    "count_vect2=CountVectorizer() #tfidf\n",
    "X_train_counts2 = count_vect2.fit_transform(X_t)\n",
    "X_train_tfidf2 = tfidf_transformer.fit_transform(X_train_counts2)\n",
    "clf2= MultinomialNB().fit(X_train_tfidf2, y_t)"
   ]
  },
  {
   "cell_type": "markdown",
   "metadata": {},
   "source": [
    "##### Classifier 3:  Using [tfidf, Lemmatizing] Classification Technique:"
   ]
  },
  {
   "cell_type": "code",
   "execution_count": 12,
   "metadata": {},
   "outputs": [],
   "source": [
    "count_vect3=CountVectorizer(tokenizer=LemmaTokenizer())\n",
    "X_train_counts3 = count_vect3.fit_transform(X_t)\n",
    "X_train_tfidf3 = tfidf_transformer.fit_transform(X_train_counts3)\n",
    "clf3= MultinomialNB().fit(X_train_tfidf3, y_t)"
   ]
  },
  {
   "cell_type": "markdown",
   "metadata": {},
   "source": [
    "### Using Classifier to predict on Testing data"
   ]
  },
  {
   "cell_type": "markdown",
   "metadata": {},
   "source": [
    "##### Prediction on Classifier 1"
   ]
  },
  {
   "cell_type": "code",
   "execution_count": 13,
   "metadata": {},
   "outputs": [],
   "source": [
    "predicted1=clf.predict(count_vect.transform([i for i in p['processed_text']]))\n",
    "predicted1=pd.DataFrame(predicted1)"
   ]
  },
  {
   "cell_type": "code",
   "execution_count": 14,
   "metadata": {
    "scrolled": true
   },
   "outputs": [
    {
     "data": {
      "text/html": [
       "<div>\n",
       "<style scoped>\n",
       "    .dataframe tbody tr th:only-of-type {\n",
       "        vertical-align: middle;\n",
       "    }\n",
       "\n",
       "    .dataframe tbody tr th {\n",
       "        vertical-align: top;\n",
       "    }\n",
       "\n",
       "    .dataframe thead th {\n",
       "        text-align: right;\n",
       "    }\n",
       "</style>\n",
       "<table border=\"1\" class=\"dataframe\">\n",
       "  <thead>\n",
       "    <tr style=\"text-align: right;\">\n",
       "      <th></th>\n",
       "      <th>processed_text</th>\n",
       "      <th>Rating</th>\n",
       "      <th>User Experience</th>\n",
       "      <th>Bug Report</th>\n",
       "      <th>Feature Report</th>\n",
       "      <th>label</th>\n",
       "    </tr>\n",
       "  </thead>\n",
       "  <tbody>\n",
       "    <tr>\n",
       "      <td>0</td>\n",
       "      <td>A great game to be during times  Nice</td>\n",
       "      <td>1</td>\n",
       "      <td>0</td>\n",
       "      <td>0</td>\n",
       "      <td>0</td>\n",
       "      <td>Rating</td>\n",
       "    </tr>\n",
       "    <tr>\n",
       "      <td>1</td>\n",
       "      <td>I truly love pandora</td>\n",
       "      <td>0</td>\n",
       "      <td>1</td>\n",
       "      <td>0</td>\n",
       "      <td>0</td>\n",
       "      <td>UserExperience</td>\n",
       "    </tr>\n",
       "    <tr>\n",
       "      <td>2</td>\n",
       "      <td>I need all the help I need 5ft and I need to l...</td>\n",
       "      <td>0</td>\n",
       "      <td>1</td>\n",
       "      <td>0</td>\n",
       "      <td>0</td>\n",
       "      <td>UserExperience</td>\n",
       "    </tr>\n",
       "    <tr>\n",
       "      <td>3</td>\n",
       "      <td>it  s not great but it  s good</td>\n",
       "      <td>1</td>\n",
       "      <td>0</td>\n",
       "      <td>0</td>\n",
       "      <td>0</td>\n",
       "      <td>Rating</td>\n",
       "    </tr>\n",
       "    <tr>\n",
       "      <td>4</td>\n",
       "      <td>I think this is cool this is learning and and ...</td>\n",
       "      <td>0</td>\n",
       "      <td>1</td>\n",
       "      <td>0</td>\n",
       "      <td>0</td>\n",
       "      <td>UserExperience</td>\n",
       "    </tr>\n",
       "    <tr>\n",
       "      <td>...</td>\n",
       "      <td>...</td>\n",
       "      <td>...</td>\n",
       "      <td>...</td>\n",
       "      <td>...</td>\n",
       "      <td>...</td>\n",
       "      <td>...</td>\n",
       "    </tr>\n",
       "    <tr>\n",
       "      <td>379</td>\n",
       "      <td>Really good for</td>\n",
       "      <td>1</td>\n",
       "      <td>0</td>\n",
       "      <td>0</td>\n",
       "      <td>0</td>\n",
       "      <td>Rating</td>\n",
       "    </tr>\n",
       "    <tr>\n",
       "      <td>380</td>\n",
       "      <td>It is my first time to use this  see who it is</td>\n",
       "      <td>0</td>\n",
       "      <td>0</td>\n",
       "      <td>0</td>\n",
       "      <td>0</td>\n",
       "      <td>UserExperience</td>\n",
       "    </tr>\n",
       "    <tr>\n",
       "      <td>381</td>\n",
       "      <td>I love it</td>\n",
       "      <td>1</td>\n",
       "      <td>0</td>\n",
       "      <td>0</td>\n",
       "      <td>0</td>\n",
       "      <td>Rating</td>\n",
       "    </tr>\n",
       "    <tr>\n",
       "      <td>382</td>\n",
       "      <td>fun fact it  s fun</td>\n",
       "      <td>1</td>\n",
       "      <td>0</td>\n",
       "      <td>0</td>\n",
       "      <td>0</td>\n",
       "      <td>Rating</td>\n",
       "    </tr>\n",
       "    <tr>\n",
       "      <td>383</td>\n",
       "      <td>I dont stay in and wont work everyday  I love ...</td>\n",
       "      <td>0</td>\n",
       "      <td>1</td>\n",
       "      <td>0</td>\n",
       "      <td>0</td>\n",
       "      <td>UserExperience</td>\n",
       "    </tr>\n",
       "  </tbody>\n",
       "</table>\n",
       "<p>384 rows × 6 columns</p>\n",
       "</div>"
      ],
      "text/plain": [
       "                                        processed_text  Rating  \\\n",
       "0                A great game to be during times  Nice       1   \n",
       "1                                 I truly love pandora       0   \n",
       "2    I need all the help I need 5ft and I need to l...       0   \n",
       "3                       it  s not great but it  s good       1   \n",
       "4    I think this is cool this is learning and and ...       0   \n",
       "..                                                 ...     ...   \n",
       "379                                   Really good for        1   \n",
       "380   It is my first time to use this  see who it is         0   \n",
       "381                                          I love it       1   \n",
       "382                                 fun fact it  s fun       1   \n",
       "383  I dont stay in and wont work everyday  I love ...       0   \n",
       "\n",
       "     User Experience  Bug Report  Feature Report           label  \n",
       "0                  0           0               0          Rating  \n",
       "1                  1           0               0  UserExperience  \n",
       "2                  1           0               0  UserExperience  \n",
       "3                  0           0               0          Rating  \n",
       "4                  1           0               0  UserExperience  \n",
       "..               ...         ...             ...             ...  \n",
       "379                0           0               0          Rating  \n",
       "380                0           0               0  UserExperience  \n",
       "381                0           0               0          Rating  \n",
       "382                0           0               0          Rating  \n",
       "383                1           0               0  UserExperience  \n",
       "\n",
       "[384 rows x 6 columns]"
      ]
     },
     "execution_count": 14,
     "metadata": {},
     "output_type": "execute_result"
    }
   ],
   "source": [
    "reviewed = pd.read_csv('/Users/kt/Documents/UBC_MDS/block4/553/553proj/553project/methods/data/labelled.csv')\n",
    "reviewed"
   ]
  },
  {
   "cell_type": "code",
   "execution_count": 15,
   "metadata": {},
   "outputs": [
    {
     "name": "stderr",
     "output_type": "stream",
     "text": [
      "//anaconda3/lib/python3.7/site-packages/sklearn/metrics/classification.py:1437: UndefinedMetricWarning: Precision and F-score are ill-defined and being set to 0.0 in labels with no predicted samples.\n",
      "  'precision', 'predicted', average, warn_for)\n",
      "//anaconda3/lib/python3.7/site-packages/sklearn/metrics/classification.py:1439: UndefinedMetricWarning: Recall and F-score are ill-defined and being set to 0.0 in labels with no true samples.\n",
      "  'recall', 'true', average, warn_for)\n"
     ]
    }
   ],
   "source": [
    "from sklearn.metrics import *\n",
    "import csv\n",
    "\n",
    "\n",
    "y_true = reviewed['label']\n",
    "y_pred = predicted1\n",
    "\n",
    "f1 = precision_recall_fscore_support(y_true, y_pred, average = \"macro\")\n"
   ]
  },
  {
   "cell_type": "markdown",
   "metadata": {},
   "source": [
    "##### Prediction on Classifier 2"
   ]
  },
  {
   "cell_type": "code",
   "execution_count": 16,
   "metadata": {},
   "outputs": [],
   "source": [
    "predicted2=clf2.predict(count_vect2.transform([i for i in p['processed_text']]))\n",
    "predicted2=pd.DataFrame(predicted2)\n",
    "\n",
    "\n",
    "y_true = reviewed['label']\n",
    "y_pred = predicted2\n",
    "\n",
    "\n",
    "f2 = precision_recall_fscore_support(y_true, y_pred, average = \"macro\")\n"
   ]
  },
  {
   "cell_type": "markdown",
   "metadata": {},
   "source": [
    "##### Prediction on Classifier 3"
   ]
  },
  {
   "cell_type": "code",
   "execution_count": 17,
   "metadata": {},
   "outputs": [],
   "source": [
    "predicted3=clf3.predict(count_vect3.transform([i for i in p['processed_text']]))\n",
    "predicted3=pd.DataFrame(predicted3)\n",
    "\n",
    "y_true = reviewed['label']\n",
    "y_pred = predicted3\n",
    "\n",
    "f3 = precision_recall_fscore_support(y_true, y_pred, average = \"macro\")"
   ]
  },
  {
   "cell_type": "code",
   "execution_count": 18,
   "metadata": {
    "scrolled": true
   },
   "outputs": [
    {
     "data": {
      "text/html": [
       "<div>\n",
       "<style scoped>\n",
       "    .dataframe tbody tr th:only-of-type {\n",
       "        vertical-align: middle;\n",
       "    }\n",
       "\n",
       "    .dataframe tbody tr th {\n",
       "        vertical-align: top;\n",
       "    }\n",
       "\n",
       "    .dataframe thead th {\n",
       "        text-align: right;\n",
       "    }\n",
       "</style>\n",
       "<table border=\"1\" class=\"dataframe\">\n",
       "  <thead>\n",
       "    <tr style=\"text-align: right;\">\n",
       "      <th></th>\n",
       "      <th>technique</th>\n",
       "      <th>prec</th>\n",
       "      <th>recall</th>\n",
       "      <th>fscore</th>\n",
       "    </tr>\n",
       "  </thead>\n",
       "  <tbody>\n",
       "    <tr>\n",
       "      <td>0</td>\n",
       "      <td>tfidf, Lemmatizing, removing stop_words, bigram</td>\n",
       "      <td>0.033333</td>\n",
       "      <td>0.153333</td>\n",
       "      <td>0.054762</td>\n",
       "    </tr>\n",
       "    <tr>\n",
       "      <td>1</td>\n",
       "      <td>tf-idf</td>\n",
       "      <td>0.027184</td>\n",
       "      <td>0.186667</td>\n",
       "      <td>0.047458</td>\n",
       "    </tr>\n",
       "    <tr>\n",
       "      <td>2</td>\n",
       "      <td>tf-idf+lemmatization</td>\n",
       "      <td>0.025926</td>\n",
       "      <td>0.186667</td>\n",
       "      <td>0.045528</td>\n",
       "    </tr>\n",
       "  </tbody>\n",
       "</table>\n",
       "</div>"
      ],
      "text/plain": [
       "                                         technique      prec    recall  \\\n",
       "0  tfidf, Lemmatizing, removing stop_words, bigram  0.033333  0.153333   \n",
       "1                                           tf-idf  0.027184  0.186667   \n",
       "2                             tf-idf+lemmatization  0.025926  0.186667   \n",
       "\n",
       "     fscore  \n",
       "0  0.054762  \n",
       "1  0.047458  \n",
       "2  0.045528  "
      ]
     },
     "execution_count": 18,
     "metadata": {},
     "output_type": "execute_result"
    }
   ],
   "source": [
    "pd.DataFrame({'technique' : ['tfidf, Lemmatizing, removing stop_words, bigram', 'tf-idf', 'tf-idf+lemmatization'], \n",
    "             'prec' : [f1[0], f2[0], f3[0]],\n",
    "             'recall': [f1[1], f2[1], f3[1]],\n",
    "             'fscore': [f1[2], f2[2], f3[2]]})"
   ]
  },
  {
   "cell_type": "code",
   "execution_count": null,
   "metadata": {},
   "outputs": [],
   "source": []
  },
  {
   "cell_type": "code",
   "execution_count": null,
   "metadata": {},
   "outputs": [],
   "source": []
  }
 ],
 "metadata": {
  "kernelspec": {
   "display_name": "Python 3",
   "language": "python",
   "name": "python3"
  },
  "language_info": {
   "codemirror_mode": {
    "name": "ipython",
    "version": 3
   },
   "file_extension": ".py",
   "mimetype": "text/x-python",
   "name": "python",
   "nbconvert_exporter": "python",
   "pygments_lexer": "ipython3",
   "version": "3.7.4"
  }
 },
 "nbformat": 4,
 "nbformat_minor": 2
}
