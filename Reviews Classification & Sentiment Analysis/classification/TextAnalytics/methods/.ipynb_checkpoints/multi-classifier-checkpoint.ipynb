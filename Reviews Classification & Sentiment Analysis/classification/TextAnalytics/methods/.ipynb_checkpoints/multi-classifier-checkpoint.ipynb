{
 "cells": [
  {
   "cell_type": "code",
   "execution_count": 1,
   "metadata": {},
   "outputs": [],
   "source": [
    "import json\n",
    "import pandas as pd\n",
    "from pandas.io.json import json_normalize\n",
    "from sklearn.model_selection import train_test_split\n",
    "from sklearn.feature_extraction.text import CountVectorizer\n",
    "from nltk.stem import WordNetLemmatizer\n",
    "from nltk import word_tokenize\n",
    "from sklearn.feature_extraction.text import TfidfTransformer\n",
    "from sklearn.naive_bayes import MultinomialNB"
   ]
  },
  {
   "cell_type": "code",
   "execution_count": 8,
   "metadata": {
    "scrolled": true
   },
   "outputs": [
    {
     "name": "stdout",
     "output_type": "stream",
     "text": [
      "[Errno 2] No such file or directory: 'F:UBC_OkanaganCoursesDATA 553 Privacy, Security, and Professional Ethicsdata_553projectREJ_dataREJ_data'\n",
      "/Users/kt/Documents/UBC_MDS/block4/553/553proj/553project/methods\n"
     ]
    }
   ],
   "source": [
    "%cd F:\\UBC_Okanagan\\Courses\\DATA 553 Privacy, Security, and Professional Ethics\\data_553\\project\\REJ_data\\REJ_data"
   ]
  },
  {
   "cell_type": "code",
   "execution_count": 19,
   "metadata": {},
   "outputs": [],
   "source": [
    "import os\n",
    "os.chdir('/Users/kt/Documents/UBC_MDS/block4/553/553proj/553project/methods/data/')"
   ]
  },
  {
   "cell_type": "markdown",
   "metadata": {},
   "source": [
    "### Load Training and Testing data"
   ]
  },
  {
   "cell_type": "code",
   "execution_count": 2,
   "metadata": {},
   "outputs": [],
   "source": [
    "# training data\n",
    "with open('data/REJ_data/all.json', encoding='utf-8-sig') as json_file:\n",
    "    json_data = json.load(json_file)\n",
    "    #alljson=json_data[0:400]"
   ]
  },
  {
   "cell_type": "code",
   "execution_count": 3,
   "metadata": {
    "scrolled": true
   },
   "outputs": [
    {
     "data": {
      "text/plain": [
       "(3691, 25)"
      ]
     },
     "execution_count": 3,
     "metadata": {},
     "output_type": "execute_result"
    }
   ],
   "source": [
    "df=pd.DataFrame.from_dict(json_normalize(json_data), orient='columns')\n",
    "df.shape"
   ]
  },
  {
   "cell_type": "code",
   "execution_count": 5,
   "metadata": {},
   "outputs": [],
   "source": [
    "# Testing data\n",
    "p=pd.read_csv(\"data/Dataset3.csv\")"
   ]
  },
  {
   "cell_type": "markdown",
   "metadata": {},
   "source": [
    "### Train Classifier On Traning Data"
   ]
  },
  {
   "cell_type": "code",
   "execution_count": 6,
   "metadata": {},
   "outputs": [],
   "source": [
    "class LemmaTokenizer:\n",
    "    def __init__(self):\n",
    "        self.wnl = WordNetLemmatizer()\n",
    "    def __call__(self, doc):\n",
    "        return [self.wnl.lemmatize(t) for t in word_tokenize(doc)]"
   ]
  },
  {
   "cell_type": "code",
   "execution_count": 7,
   "metadata": {},
   "outputs": [],
   "source": [
    "CUSTOM_STOPWORDS = ['i', 'me','up','my', 'myself', 'we', 'our', 'ours',\n",
    "                    'ourselves', 'you', 'your', 'yours','yourself', 'yourselves',\n",
    "                    'he', 'him', 'his', 'himself', 'she', 'her', 'hers' ,'herself',\n",
    "                    'it', 'its', 'itself', 'they', 'them', 'their', 'theirs',\n",
    "                    'themselves' ,'am', 'is', 'are','a', 'an', 'the', 'and','in',\n",
    "                    'out', 'on','up','down', 's', 't']"
   ]
  },
  {
   "cell_type": "code",
   "execution_count": 8,
   "metadata": {},
   "outputs": [],
   "source": [
    "X_t=df['comment']\n",
    "y_t=df['label']\n",
    "tfidf_transformer = TfidfTransformer()"
   ]
  },
  {
   "cell_type": "markdown",
   "metadata": {},
   "source": [
    "##### Classifier 1: Using [tfidf,  Lemmatizing, removing stop_words, bigram classification] techniques:"
   ]
  },
  {
   "cell_type": "code",
   "execution_count": 9,
   "metadata": {},
   "outputs": [],
   "source": [
    "count_vect = CountVectorizer(tokenizer=LemmaTokenizer(),stop_words =frozenset(CUSTOM_STOPWORDS),ngram_range=(2, 2))\n",
    "X_train_counts = count_vect.fit_transform(X_t)\n",
    "X_train_tfidf = tfidf_transformer.fit_transform(X_train_counts)\n",
    "clf = MultinomialNB().fit(X_train_tfidf, y_t)"
   ]
  },
  {
   "cell_type": "markdown",
   "metadata": {},
   "source": [
    "##### Classifier 2:  Using [tfidf] Classification Technique:"
   ]
  },
  {
   "cell_type": "code",
   "execution_count": 10,
   "metadata": {},
   "outputs": [],
   "source": [
    "count_vect2=CountVectorizer() #tfidf\n",
    "X_train_counts2 = count_vect2.fit_transform(X_t)\n",
    "X_train_tfidf2 = tfidf_transformer.fit_transform(X_train_counts2)\n",
    "clf2= MultinomialNB().fit(X_train_tfidf2, y_t)"
   ]
  },
  {
   "cell_type": "markdown",
   "metadata": {},
   "source": [
    "##### Classifier 3:  Using [tfidf, Lemmatizing] Classification Technique:"
   ]
  },
  {
   "cell_type": "code",
   "execution_count": 11,
   "metadata": {},
   "outputs": [],
   "source": [
    "count_vect3=CountVectorizer(tokenizer=LemmaTokenizer())\n",
    "X_train_counts3 = count_vect3.fit_transform(X_t)\n",
    "X_train_tfidf3 = tfidf_transformer.fit_transform(X_train_counts3)\n",
    "clf3= MultinomialNB().fit(X_train_tfidf3, y_t)"
   ]
  },
  {
   "cell_type": "markdown",
   "metadata": {},
   "source": [
    "### Using Classifier to predict on Testing data"
   ]
  },
  {
   "cell_type": "markdown",
   "metadata": {},
   "source": [
    "##### Prediction on Classifier 1"
   ]
  },
  {
   "cell_type": "code",
   "execution_count": 12,
   "metadata": {},
   "outputs": [],
   "source": [
    "predicted1=clf.predict(count_vect.transform([i for i in p['processed_text']]))\n",
    "predicted1=pd.DataFrame(predicted1)"
   ]
  },
  {
   "cell_type": "code",
   "execution_count": 14,
   "metadata": {
    "scrolled": true
   },
   "outputs": [
    {
     "data": {
      "text/html": [
       "<div>\n",
       "<style scoped>\n",
       "    .dataframe tbody tr th:only-of-type {\n",
       "        vertical-align: middle;\n",
       "    }\n",
       "\n",
       "    .dataframe tbody tr th {\n",
       "        vertical-align: top;\n",
       "    }\n",
       "\n",
       "    .dataframe thead th {\n",
       "        text-align: right;\n",
       "    }\n",
       "</style>\n",
       "<table border=\"1\" class=\"dataframe\">\n",
       "  <thead>\n",
       "    <tr style=\"text-align: right;\">\n",
       "      <th></th>\n",
       "      <th>processed_text</th>\n",
       "      <th>Rating</th>\n",
       "      <th>User Experience</th>\n",
       "      <th>Bug Report</th>\n",
       "      <th>Feature Report</th>\n",
       "      <th>label</th>\n",
       "    </tr>\n",
       "  </thead>\n",
       "  <tbody>\n",
       "    <tr>\n",
       "      <td>0</td>\n",
       "      <td>A great game to be during times  Nice</td>\n",
       "      <td>1</td>\n",
       "      <td>0</td>\n",
       "      <td>0</td>\n",
       "      <td>0</td>\n",
       "      <td>Rating</td>\n",
       "    </tr>\n",
       "    <tr>\n",
       "      <td>1</td>\n",
       "      <td>I truly love pandora</td>\n",
       "      <td>0</td>\n",
       "      <td>1</td>\n",
       "      <td>0</td>\n",
       "      <td>0</td>\n",
       "      <td>UserExperience</td>\n",
       "    </tr>\n",
       "    <tr>\n",
       "      <td>2</td>\n",
       "      <td>I need all the help I need 5ft and I need to l...</td>\n",
       "      <td>0</td>\n",
       "      <td>1</td>\n",
       "      <td>0</td>\n",
       "      <td>0</td>\n",
       "      <td>UserExperience</td>\n",
       "    </tr>\n",
       "    <tr>\n",
       "      <td>3</td>\n",
       "      <td>it  s not great but it  s good</td>\n",
       "      <td>1</td>\n",
       "      <td>0</td>\n",
       "      <td>0</td>\n",
       "      <td>0</td>\n",
       "      <td>Rating</td>\n",
       "    </tr>\n",
       "    <tr>\n",
       "      <td>4</td>\n",
       "      <td>I think this is cool this is learning and and ...</td>\n",
       "      <td>0</td>\n",
       "      <td>1</td>\n",
       "      <td>0</td>\n",
       "      <td>0</td>\n",
       "      <td>UserExperience</td>\n",
       "    </tr>\n",
       "    <tr>\n",
       "      <td>...</td>\n",
       "      <td>...</td>\n",
       "      <td>...</td>\n",
       "      <td>...</td>\n",
       "      <td>...</td>\n",
       "      <td>...</td>\n",
       "      <td>...</td>\n",
       "    </tr>\n",
       "    <tr>\n",
       "      <td>379</td>\n",
       "      <td>Really good for</td>\n",
       "      <td>1</td>\n",
       "      <td>0</td>\n",
       "      <td>0</td>\n",
       "      <td>0</td>\n",
       "      <td>Rating</td>\n",
       "    </tr>\n",
       "    <tr>\n",
       "      <td>380</td>\n",
       "      <td>It is my first time to use this  see who it is</td>\n",
       "      <td>0</td>\n",
       "      <td>0</td>\n",
       "      <td>0</td>\n",
       "      <td>0</td>\n",
       "      <td>UserExperience</td>\n",
       "    </tr>\n",
       "    <tr>\n",
       "      <td>381</td>\n",
       "      <td>I love it</td>\n",
       "      <td>1</td>\n",
       "      <td>0</td>\n",
       "      <td>0</td>\n",
       "      <td>0</td>\n",
       "      <td>Rating</td>\n",
       "    </tr>\n",
       "    <tr>\n",
       "      <td>382</td>\n",
       "      <td>fun fact it  s fun</td>\n",
       "      <td>1</td>\n",
       "      <td>0</td>\n",
       "      <td>0</td>\n",
       "      <td>0</td>\n",
       "      <td>Rating</td>\n",
       "    </tr>\n",
       "    <tr>\n",
       "      <td>383</td>\n",
       "      <td>I dont stay in and wont work everyday  I love ...</td>\n",
       "      <td>0</td>\n",
       "      <td>1</td>\n",
       "      <td>0</td>\n",
       "      <td>0</td>\n",
       "      <td>UserExperience</td>\n",
       "    </tr>\n",
       "  </tbody>\n",
       "</table>\n",
       "<p>384 rows × 6 columns</p>\n",
       "</div>"
      ],
      "text/plain": [
       "                                        processed_text  Rating  \\\n",
       "0                A great game to be during times  Nice       1   \n",
       "1                                 I truly love pandora       0   \n",
       "2    I need all the help I need 5ft and I need to l...       0   \n",
       "3                       it  s not great but it  s good       1   \n",
       "4    I think this is cool this is learning and and ...       0   \n",
       "..                                                 ...     ...   \n",
       "379                                   Really good for        1   \n",
       "380   It is my first time to use this  see who it is         0   \n",
       "381                                          I love it       1   \n",
       "382                                 fun fact it  s fun       1   \n",
       "383  I dont stay in and wont work everyday  I love ...       0   \n",
       "\n",
       "     User Experience  Bug Report  Feature Report           label  \n",
       "0                  0           0               0          Rating  \n",
       "1                  1           0               0  UserExperience  \n",
       "2                  1           0               0  UserExperience  \n",
       "3                  0           0               0          Rating  \n",
       "4                  1           0               0  UserExperience  \n",
       "..               ...         ...             ...             ...  \n",
       "379                0           0               0          Rating  \n",
       "380                0           0               0  UserExperience  \n",
       "381                0           0               0          Rating  \n",
       "382                0           0               0          Rating  \n",
       "383                1           0               0  UserExperience  \n",
       "\n",
       "[384 rows x 6 columns]"
      ]
     },
     "execution_count": 14,
     "metadata": {},
     "output_type": "execute_result"
    }
   ],
   "source": [
    "reviewed = pd.read_csv('data/labelled.csv')\n",
    "reviewed"
   ]
  },
  {
   "cell_type": "code",
   "execution_count": 23,
   "metadata": {},
   "outputs": [],
   "source": [
    "from sklearn.metrics import *\n",
    "import csv\n",
    "\n",
    "\n",
    "y_true = reviewed['label']\n",
    "y_pred = predicted1\n",
    "\n",
    "f1 = precision_recall_fscore_support(y_true, y_pred, average = \"macro\")\n"
   ]
  },
  {
   "cell_type": "markdown",
   "metadata": {},
   "source": [
    "##### Prediction on Classifier 2"
   ]
  },
  {
   "cell_type": "code",
   "execution_count": 19,
   "metadata": {},
   "outputs": [
    {
     "data": {
      "text/html": [
       "<div>\n",
       "<style scoped>\n",
       "    .dataframe tbody tr th:only-of-type {\n",
       "        vertical-align: middle;\n",
       "    }\n",
       "\n",
       "    .dataframe tbody tr th {\n",
       "        vertical-align: top;\n",
       "    }\n",
       "\n",
       "    .dataframe thead th {\n",
       "        text-align: right;\n",
       "    }\n",
       "</style>\n",
       "<table border=\"1\" class=\"dataframe\">\n",
       "  <thead>\n",
       "    <tr style=\"text-align: right;\">\n",
       "      <th></th>\n",
       "      <th>technique</th>\n",
       "      <th>precision</th>\n",
       "      <th>recall</th>\n",
       "      <th>f1_score</th>\n",
       "    </tr>\n",
       "  </thead>\n",
       "  <tbody>\n",
       "    <tr>\n",
       "      <td>0</td>\n",
       "      <td>tfidf</td>\n",
       "      <td>0.580729</td>\n",
       "      <td>0.580729</td>\n",
       "      <td>(0.5807291666666666, 0.5807291666666666, 0.580...</td>\n",
       "    </tr>\n",
       "  </tbody>\n",
       "</table>\n",
       "</div>"
      ],
      "text/plain": [
       "  technique  precision    recall  \\\n",
       "0     tfidf   0.580729  0.580729   \n",
       "\n",
       "                                            f1_score  \n",
       "0  (0.5807291666666666, 0.5807291666666666, 0.580...  "
      ]
     },
     "execution_count": 19,
     "metadata": {},
     "output_type": "execute_result"
    }
   ],
   "source": [
    "predicted2=clf2.predict(count_vect2.transform([i for i in p['processed_text']]))\n",
    "predicted2=pd.DataFrame(predicted2)\n",
    "\n",
    "\n",
    "y_true = reviewed['label']\n",
    "y_pred = predicted2\n",
    "\n",
    "\n",
    "f2 = precision_recall_fscore_support(y_true, y_pred, average = \"macro\")\n"
   ]
  },
  {
   "cell_type": "markdown",
   "metadata": {},
   "source": [
    "##### Prediction on Classifier 3"
   ]
  },
  {
   "cell_type": "code",
   "execution_count": 22,
   "metadata": {},
   "outputs": [
    {
     "data": {
      "text/html": [
       "<div>\n",
       "<style scoped>\n",
       "    .dataframe tbody tr th:only-of-type {\n",
       "        vertical-align: middle;\n",
       "    }\n",
       "\n",
       "    .dataframe tbody tr th {\n",
       "        vertical-align: top;\n",
       "    }\n",
       "\n",
       "    .dataframe thead th {\n",
       "        text-align: right;\n",
       "    }\n",
       "</style>\n",
       "<table border=\"1\" class=\"dataframe\">\n",
       "  <thead>\n",
       "    <tr style=\"text-align: right;\">\n",
       "      <th></th>\n",
       "      <th>technique</th>\n",
       "      <th>precision</th>\n",
       "      <th>recall</th>\n",
       "      <th>f1_score</th>\n",
       "    </tr>\n",
       "  </thead>\n",
       "  <tbody>\n",
       "    <tr>\n",
       "      <td>0</td>\n",
       "      <td>tfidf, Lemmatizing</td>\n",
       "      <td>0.588542</td>\n",
       "      <td>0.588542</td>\n",
       "      <td>(0.5885416666666666, 0.5885416666666666, 0.588...</td>\n",
       "    </tr>\n",
       "  </tbody>\n",
       "</table>\n",
       "</div>"
      ],
      "text/plain": [
       "            technique  precision    recall  \\\n",
       "0  tfidf, Lemmatizing   0.588542  0.588542   \n",
       "\n",
       "                                            f1_score  \n",
       "0  (0.5885416666666666, 0.5885416666666666, 0.588...  "
      ]
     },
     "execution_count": 22,
     "metadata": {},
     "output_type": "execute_result"
    }
   ],
   "source": [
    "predicted3=clf3.predict(count_vect3.transform([i for i in p['processed_text']]))\n",
    "predicted3=pd.DataFrame(predicted3)\n",
    "\n",
    "y_true = reviewed['label']\n",
    "y_pred = predicted3\n",
    "\n",
    "f3 = precision_recall_fscore_support(y_true, y_pred, average = \"macro\")"
   ]
  },
  {
   "cell_type": "code",
   "execution_count": 24,
   "metadata": {
    "scrolled": true
   },
   "outputs": [
    {
     "data": {
      "text/html": [
       "<div>\n",
       "<style scoped>\n",
       "    .dataframe tbody tr th:only-of-type {\n",
       "        vertical-align: middle;\n",
       "    }\n",
       "\n",
       "    .dataframe tbody tr th {\n",
       "        vertical-align: top;\n",
       "    }\n",
       "\n",
       "    .dataframe thead th {\n",
       "        text-align: right;\n",
       "    }\n",
       "</style>\n",
       "<table border=\"1\" class=\"dataframe\">\n",
       "  <thead>\n",
       "    <tr style=\"text-align: right;\">\n",
       "      <th></th>\n",
       "      <th>technique</th>\n",
       "      <th>precision</th>\n",
       "      <th>recall</th>\n",
       "      <th>f1_score</th>\n",
       "    </tr>\n",
       "  </thead>\n",
       "  <tbody>\n",
       "    <tr>\n",
       "      <td>0</td>\n",
       "      <td>tfidf, Lemmatizing, removing stop_words, bigram</td>\n",
       "      <td>0.593750</td>\n",
       "      <td>0.593750</td>\n",
       "      <td>(0.59375, 0.59375, 0.59375, None)</td>\n",
       "    </tr>\n",
       "    <tr>\n",
       "      <td>1</td>\n",
       "      <td>tf-idf</td>\n",
       "      <td>0.580729</td>\n",
       "      <td>0.580729</td>\n",
       "      <td>(0.5807291666666666, 0.5807291666666666, 0.580...</td>\n",
       "    </tr>\n",
       "    <tr>\n",
       "      <td>2</td>\n",
       "      <td>tf-idf+lemmatization</td>\n",
       "      <td>0.588542</td>\n",
       "      <td>0.588542</td>\n",
       "      <td>(0.5885416666666666, 0.5885416666666666, 0.588...</td>\n",
       "    </tr>\n",
       "  </tbody>\n",
       "</table>\n",
       "</div>"
      ],
      "text/plain": [
       "                                         technique  precision    recall  \\\n",
       "0  tfidf, Lemmatizing, removing stop_words, bigram   0.593750  0.593750   \n",
       "1                                           tf-idf   0.580729  0.580729   \n",
       "2                             tf-idf+lemmatization   0.588542  0.588542   \n",
       "\n",
       "                                            f1_score  \n",
       "0                  (0.59375, 0.59375, 0.59375, None)  \n",
       "1  (0.5807291666666666, 0.5807291666666666, 0.580...  \n",
       "2  (0.5885416666666666, 0.5885416666666666, 0.588...  "
      ]
     },
     "execution_count": 24,
     "metadata": {},
     "output_type": "execute_result"
    }
   ],
   "source": [
    "pd.DataFrame({'technique' : ['tfidf, Lemmatizing, removing stop_words, bigram', 'tf-idf', 'tf-idf+lemmatization'], \n",
    "              'precision' : [prec1, prec2, prec3],\n",
    "            'recall' : [recall1, recall2, recall3],\n",
    "             'f1_score' : [f1, f2, f3]})"
   ]
  },
  {
   "cell_type": "code",
   "execution_count": null,
   "metadata": {},
   "outputs": [],
   "source": []
  }
 ],
 "metadata": {
  "kernelspec": {
   "display_name": "Python 3",
   "language": "python",
   "name": "python3"
  },
  "language_info": {
   "codemirror_mode": {
    "name": "ipython",
    "version": 3
   },
   "file_extension": ".py",
   "mimetype": "text/x-python",
   "name": "python",
   "nbconvert_exporter": "python",
   "pygments_lexer": "ipython3",
   "version": "3.7.4"
  }
 },
 "nbformat": 4,
 "nbformat_minor": 2
}
