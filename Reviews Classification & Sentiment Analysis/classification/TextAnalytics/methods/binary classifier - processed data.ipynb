{
 "cells": [
  {
   "cell_type": "markdown",
   "metadata": {},
   "source": [
    "# Binary Classifier\n",
    "`sklearn GaussianNB`"
   ]
  },
  {
   "cell_type": "code",
   "execution_count": 47,
   "metadata": {},
   "outputs": [],
   "source": [
    "# import classifier modules\n",
    "from sklearn.model_selection import train_test_split\n",
    "from sklearn.feature_extraction.text import CountVectorizer\n",
    "from sklearn.feature_extraction.text import TfidfTransformer\n",
    "from sklearn.naive_bayes import GaussianNB\n",
    "from sklearn.feature_extraction.text import TfidfVectorizer  \n",
    "\n",
    "# import other modules\n",
    "import pandas as pd\n",
    "import json\n",
    "from pandas.io.json import json_normalize"
   ]
  },
  {
   "cell_type": "code",
   "execution_count": 48,
   "metadata": {},
   "outputs": [],
   "source": [
    "with open('data/REJ_data/all.json', encoding='utf-8-sig') as json_file:\n",
    "    train = json.load(json_file)\n",
    "    \n",
    "ALL = pd.DataFrame.from_dict(json_normalize(train), orient='columns')"
   ]
  },
  {
   "cell_type": "code",
   "execution_count": 49,
   "metadata": {},
   "outputs": [],
   "source": [
    "reviewed = pd.read_csv('data/labelled.csv')"
   ]
  },
  {
   "cell_type": "code",
   "execution_count": 50,
   "metadata": {},
   "outputs": [],
   "source": [
    "df = pd.read_csv('data/dataset3_with_nlp_techniques.csv')"
   ]
  },
  {
   "cell_type": "markdown",
   "metadata": {},
   "source": [
    "### 1. TF-IDF "
   ]
  },
  {
   "cell_type": "code",
   "execution_count": 51,
   "metadata": {},
   "outputs": [],
   "source": [
    "# make bow of test data\n",
    "from sklearn.feature_extraction.text import TfidfTransformer\n",
    "vectorizer = TfidfVectorizer(use_idf = True)\n",
    "\n",
    "x = vectorizer.fit_transform(ALL.comment).toarray()\n",
    "y = ALL.label\n",
    "\n",
    "# train the classifier\n",
    "g = GaussianNB()  \n",
    "g = g.fit(x, y)  \n",
    "\n",
    "\n",
    "# predict on test data\n",
    "def binary_class(x):\n",
    "    p = vectorizer.transform([x]).toarray()\n",
    "    return g.predict(p)\n",
    "    \n",
    "\n",
    "binary_pred = pd.DataFrame({'review' : df.processed_text, 'label' : reviewed.label})\n",
    "binary_pred['tf-idf'] = df.processed_text.map(lambda x: binary_class(x))\n"
   ]
  },
  {
   "cell_type": "markdown",
   "metadata": {},
   "source": [
    "### 2. TF-IDF - stop words"
   ]
  },
  {
   "cell_type": "code",
   "execution_count": 52,
   "metadata": {},
   "outputs": [],
   "source": [
    "# train on stop words removal\n",
    "x = vectorizer.fit_transform(ALL.stopwords_removal).toarray()\n",
    "y = ALL.label\n",
    "\n",
    "# train the classifier\n",
    "g = GaussianNB()  \n",
    "g = g.fit(x, y)  \n",
    "\n",
    "def binary_class2(x):\n",
    "    p = vectorizer.transform(x).toarray()\n",
    "    return g.predict(p)\n",
    "\n",
    "# make our stopwords col full sentence\n",
    "df.stopword = df.stopword.map(lambda x: ' '.join(x))\n",
    "\n",
    "# predict\n",
    "binary_pred['tf-idf-stopwords'] = df.stopword.map(lambda x: binary_class(x))"
   ]
  },
  {
   "cell_type": "markdown",
   "metadata": {},
   "source": [
    "### 3. TF-IDF + Lemmatization"
   ]
  },
  {
   "cell_type": "code",
   "execution_count": 53,
   "metadata": {},
   "outputs": [],
   "source": [
    "# train on lemmatized removal\n",
    "x = vectorizer.fit_transform(ALL.lemmatized_comment).toarray()\n",
    "y = ALL.label\n",
    "\n",
    "# train the classifier\n",
    "g = GaussianNB()  \n",
    "g = g.fit(x, y)  \n",
    "\n",
    "# make our lemmatizer col full sentence\n",
    "df.lemmatizer = df.lemmatizer.map(lambda x: ' '.join(x))\n",
    "\n",
    "# predict\n",
    "binary_pred['tf-idf+lemmatizer'] = df.lemmatizer.map(lambda x: binary_class(x))"
   ]
  },
  {
   "cell_type": "markdown",
   "metadata": {},
   "source": [
    "### 4. Bigrams"
   ]
  },
  {
   "cell_type": "code",
   "execution_count": 54,
   "metadata": {},
   "outputs": [],
   "source": [
    "# train on lemmatized removal\n",
    "x = vectorizer.fit_transform(ALL.lemmatized_comment).toarray()\n",
    "y = ALL.label\n",
    "\n",
    "# train the classifier\n",
    "g = GaussianNB()  \n",
    "g = g.fit(x, y)  \n",
    "\n",
    "# make our lemmatizer col full sentence\n",
    "df.lemmatizer = df.lemmatizer.map(lambda x: ' '.join(x))\n",
    "\n",
    "# predict\n",
    "binary_pred['tf-idf+lemmatizer'] = df.lemmatizer.map(lambda x: binary_class(x))"
   ]
  },
  {
   "cell_type": "code",
   "execution_count": 55,
   "metadata": {},
   "outputs": [
    {
     "data": {
      "text/html": [
       "<div>\n",
       "<style scoped>\n",
       "    .dataframe tbody tr th:only-of-type {\n",
       "        vertical-align: middle;\n",
       "    }\n",
       "\n",
       "    .dataframe tbody tr th {\n",
       "        vertical-align: top;\n",
       "    }\n",
       "\n",
       "    .dataframe thead th {\n",
       "        text-align: right;\n",
       "    }\n",
       "</style>\n",
       "<table border=\"1\" class=\"dataframe\">\n",
       "  <thead>\n",
       "    <tr style=\"text-align: right;\">\n",
       "      <th></th>\n",
       "      <th>review</th>\n",
       "      <th>label</th>\n",
       "      <th>tf-idf</th>\n",
       "      <th>tf-idf-stopwords</th>\n",
       "      <th>tf-idf+lemmatizer</th>\n",
       "    </tr>\n",
       "  </thead>\n",
       "  <tbody>\n",
       "    <tr>\n",
       "      <td>0</td>\n",
       "      <td>A great game to be during times  Nice</td>\n",
       "      <td>Rating</td>\n",
       "      <td>Feature</td>\n",
       "      <td>Feature</td>\n",
       "      <td>Feature</td>\n",
       "    </tr>\n",
       "    <tr>\n",
       "      <td>1</td>\n",
       "      <td>I truly love pandora</td>\n",
       "      <td>UserExperience</td>\n",
       "      <td>Feature</td>\n",
       "      <td>Feature</td>\n",
       "      <td>Feature</td>\n",
       "    </tr>\n",
       "    <tr>\n",
       "      <td>2</td>\n",
       "      <td>I need all the help I need 5ft and I need to l...</td>\n",
       "      <td>UserExperience</td>\n",
       "      <td>UserExperience</td>\n",
       "      <td>Feature</td>\n",
       "      <td>Feature</td>\n",
       "    </tr>\n",
       "    <tr>\n",
       "      <td>3</td>\n",
       "      <td>it  s not great but it  s good</td>\n",
       "      <td>Rating</td>\n",
       "      <td>Feature</td>\n",
       "      <td>Feature</td>\n",
       "      <td>Feature</td>\n",
       "    </tr>\n",
       "    <tr>\n",
       "      <td>4</td>\n",
       "      <td>I think this is cool this is learning and and ...</td>\n",
       "      <td>UserExperience</td>\n",
       "      <td>UserExperience</td>\n",
       "      <td>Feature</td>\n",
       "      <td>Feature</td>\n",
       "    </tr>\n",
       "    <tr>\n",
       "      <td>...</td>\n",
       "      <td>...</td>\n",
       "      <td>...</td>\n",
       "      <td>...</td>\n",
       "      <td>...</td>\n",
       "      <td>...</td>\n",
       "    </tr>\n",
       "    <tr>\n",
       "      <td>379</td>\n",
       "      <td>Really good for</td>\n",
       "      <td>Rating</td>\n",
       "      <td>Feature</td>\n",
       "      <td>Feature</td>\n",
       "      <td>Feature</td>\n",
       "    </tr>\n",
       "    <tr>\n",
       "      <td>380</td>\n",
       "      <td>It is my first time to use this  see who it is</td>\n",
       "      <td>UserExperience</td>\n",
       "      <td>Feature</td>\n",
       "      <td>Feature</td>\n",
       "      <td>Feature</td>\n",
       "    </tr>\n",
       "    <tr>\n",
       "      <td>381</td>\n",
       "      <td>I love it</td>\n",
       "      <td>Rating</td>\n",
       "      <td>Feature</td>\n",
       "      <td>Feature</td>\n",
       "      <td>Feature</td>\n",
       "    </tr>\n",
       "    <tr>\n",
       "      <td>382</td>\n",
       "      <td>fun fact it  s fun</td>\n",
       "      <td>Rating</td>\n",
       "      <td>Feature</td>\n",
       "      <td>Feature</td>\n",
       "      <td>Feature</td>\n",
       "    </tr>\n",
       "    <tr>\n",
       "      <td>383</td>\n",
       "      <td>I dont stay in and wont work everyday  I love ...</td>\n",
       "      <td>UserExperience</td>\n",
       "      <td>Bug</td>\n",
       "      <td>Feature</td>\n",
       "      <td>Feature</td>\n",
       "    </tr>\n",
       "  </tbody>\n",
       "</table>\n",
       "<p>384 rows × 5 columns</p>\n",
       "</div>"
      ],
      "text/plain": [
       "                                                review           label  \\\n",
       "0                A great game to be during times  Nice          Rating   \n",
       "1                                 I truly love pandora  UserExperience   \n",
       "2    I need all the help I need 5ft and I need to l...  UserExperience   \n",
       "3                       it  s not great but it  s good          Rating   \n",
       "4    I think this is cool this is learning and and ...  UserExperience   \n",
       "..                                                 ...             ...   \n",
       "379                                   Really good for           Rating   \n",
       "380   It is my first time to use this  see who it is    UserExperience   \n",
       "381                                          I love it          Rating   \n",
       "382                                 fun fact it  s fun          Rating   \n",
       "383  I dont stay in and wont work everyday  I love ...  UserExperience   \n",
       "\n",
       "             tf-idf tf-idf-stopwords tf-idf+lemmatizer  \n",
       "0           Feature          Feature           Feature  \n",
       "1           Feature          Feature           Feature  \n",
       "2    UserExperience          Feature           Feature  \n",
       "3           Feature          Feature           Feature  \n",
       "4    UserExperience          Feature           Feature  \n",
       "..              ...              ...               ...  \n",
       "379         Feature          Feature           Feature  \n",
       "380         Feature          Feature           Feature  \n",
       "381         Feature          Feature           Feature  \n",
       "382         Feature          Feature           Feature  \n",
       "383             Bug          Feature           Feature  \n",
       "\n",
       "[384 rows x 5 columns]"
      ]
     },
     "execution_count": 55,
     "metadata": {},
     "output_type": "execute_result"
    }
   ],
   "source": [
    "binary_pred['tf-idf'] = binary_pred['tf-idf'].apply(''.join)\n",
    "binary_pred['tf-idf+lemmatizer'] = binary_pred['tf-idf+lemmatizer'].apply(''.join)\n",
    "binary_pred['tf-idf-stopwords'] = binary_pred['tf-idf-stopwords'].apply(''.join)\n",
    "binary_pred"
   ]
  },
  {
   "cell_type": "markdown",
   "metadata": {},
   "source": [
    "### metrics"
   ]
  },
  {
   "cell_type": "code",
   "execution_count": 68,
   "metadata": {},
   "outputs": [],
   "source": [
    "from sklearn.metrics import *\n",
    "import csv\n",
    "\n",
    "\n",
    "y_true = binary_pred.label\n",
    "y_pred = binary_pred['tf-idf']\n",
    "\n",
    "# tf-idf\n",
    "f = precision_recall_fscore_support(y_true, y_pred, average = \"macro\")\n",
    "\n",
    "# tf-idf-stopwords\n",
    "f2 = precision_recall_fscore_support(y_true, binary_pred['tf-idf-stopwords'], average = \"macro\")\n",
    "\n",
    "\n",
    "# tf-idf+lemma\n",
    "f3 = precision_recall_fscore_support(y_true, binary_pred['tf-idf+lemmatizer'], average = \"macro\")\n",
    "\n",
    "\n"
   ]
  },
  {
   "cell_type": "code",
   "execution_count": 62,
   "metadata": {
    "scrolled": true
   },
   "outputs": [
    {
     "data": {
      "text/html": [
       "<div>\n",
       "<style scoped>\n",
       "    .dataframe tbody tr th:only-of-type {\n",
       "        vertical-align: middle;\n",
       "    }\n",
       "\n",
       "    .dataframe tbody tr th {\n",
       "        vertical-align: top;\n",
       "    }\n",
       "\n",
       "    .dataframe thead th {\n",
       "        text-align: right;\n",
       "    }\n",
       "</style>\n",
       "<table border=\"1\" class=\"dataframe\">\n",
       "  <thead>\n",
       "    <tr style=\"text-align: right;\">\n",
       "      <th></th>\n",
       "      <th>technique</th>\n",
       "      <th>metric (prec, recall, f)</th>\n",
       "    </tr>\n",
       "  </thead>\n",
       "  <tbody>\n",
       "    <tr>\n",
       "      <td>0</td>\n",
       "      <td>tf-idf</td>\n",
       "      <td>(0.30156037991858886, 0.2892486802413273, 0.24...</td>\n",
       "    </tr>\n",
       "    <tr>\n",
       "      <td>1</td>\n",
       "      <td>tf-idf-stopwords</td>\n",
       "      <td>(0.01953125, 0.25, 0.036231884057971016, None)</td>\n",
       "    </tr>\n",
       "    <tr>\n",
       "      <td>2</td>\n",
       "      <td>tf-idf+lemmatization</td>\n",
       "      <td>(0.01953125, 0.25, 0.036231884057971016, None)</td>\n",
       "    </tr>\n",
       "  </tbody>\n",
       "</table>\n",
       "</div>"
      ],
      "text/plain": [
       "              technique                           metric (prec, recall, f)\n",
       "0                tf-idf  (0.30156037991858886, 0.2892486802413273, 0.24...\n",
       "1      tf-idf-stopwords     (0.01953125, 0.25, 0.036231884057971016, None)\n",
       "2  tf-idf+lemmatization     (0.01953125, 0.25, 0.036231884057971016, None)"
      ]
     },
     "execution_count": 62,
     "metadata": {},
     "output_type": "execute_result"
    }
   ],
   "source": [
    "\n",
    "pd.DataFrame({'technique' : ['tf-idf', 'tf-idf-stopwords', 'tf-idf+lemmatization'], \n",
    "              'metric (prec, recall, f)' : [f, f2, f3]})"
   ]
  },
  {
   "cell_type": "code",
   "execution_count": 69,
   "metadata": {},
   "outputs": [
    {
     "data": {
      "text/plain": [
       "(0.30156037991858886, 0.2892486802413273, 0.24562124162949572, None)"
      ]
     },
     "execution_count": 69,
     "metadata": {},
     "output_type": "execute_result"
    }
   ],
   "source": [
    "f"
   ]
  },
  {
   "cell_type": "code",
   "execution_count": 12,
   "metadata": {},
   "outputs": [
    {
     "data": {
      "text/plain": [
       "label\n",
       "Bug                48\n",
       "Feature            30\n",
       "Rating            221\n",
       "UserExperience     85\n",
       "Name: review, dtype: int64"
      ]
     },
     "execution_count": 12,
     "metadata": {},
     "output_type": "execute_result"
    }
   ],
   "source": [
    "binary_pred.groupby('label').count()['review']"
   ]
  },
  {
   "cell_type": "code",
   "execution_count": 13,
   "metadata": {},
   "outputs": [
    {
     "data": {
      "text/plain": [
       "tf-idf\n",
       "Bug                55\n",
       "Feature           201\n",
       "Rating             66\n",
       "UserExperience     62\n",
       "Name: review, dtype: int64"
      ]
     },
     "execution_count": 13,
     "metadata": {},
     "output_type": "execute_result"
    }
   ],
   "source": [
    "binary_pred.groupby('tf-idf').count()['review']"
   ]
  },
  {
   "cell_type": "code",
   "execution_count": 14,
   "metadata": {},
   "outputs": [
    {
     "data": {
      "text/plain": [
       "tf-idf-stopwords\n",
       "Feature    384\n",
       "Name: review, dtype: int64"
      ]
     },
     "execution_count": 14,
     "metadata": {},
     "output_type": "execute_result"
    }
   ],
   "source": [
    "binary_pred.groupby('tf-idf-stopwords').count()['review']"
   ]
  },
  {
   "cell_type": "code",
   "execution_count": 15,
   "metadata": {},
   "outputs": [
    {
     "data": {
      "text/plain": [
       "tf-idf+lemmatizer\n",
       "Feature    384\n",
       "Name: review, dtype: int64"
      ]
     },
     "execution_count": 15,
     "metadata": {},
     "output_type": "execute_result"
    }
   ],
   "source": [
    "binary_pred.groupby('tf-idf+lemmatizer').count()['review']"
   ]
  },
  {
   "cell_type": "markdown",
   "metadata": {},
   "source": [
    "---\n",
    "\n",
    "# Repeat for Bug "
   ]
  },
  {
   "cell_type": "code",
   "execution_count": 18,
   "metadata": {},
   "outputs": [],
   "source": [
    "with open('data/REJ_data/Bug_tt.json', encoding='utf-8-sig') as json_file:\n",
    "    train = json.load(json_file)\n",
    "    \n",
    "BUG = pd.DataFrame.from_dict(json_normalize(train), orient='columns')"
   ]
  },
  {
   "cell_type": "code",
   "execution_count": 31,
   "metadata": {},
   "outputs": [],
   "source": [
    "# make bow of test data\n",
    "from sklearn.feature_extraction.text import TfidfTransformer\n",
    "vectorizer = TfidfVectorizer(use_idf = True)\n",
    "\n",
    "x = vectorizer.fit_transform(BUG.comment).toarray()\n",
    "y = BUG.label\n",
    "\n",
    "# train the classifier\n",
    "g = GaussianNB()  \n",
    "g = g.fit(x, y)  \n",
    "\n",
    "\n",
    "# predict on test data\n",
    "def binary_class(x):\n",
    "    p = vectorizer.transform([x]).toarray()\n",
    "    return g.predict(p)\n",
    "    \n",
    "\n",
    "bug_pred = pd.DataFrame({'review' : df.processed_text, 'label' : reviewed.label})\n",
    "bug_pred['tf-idf'] = df.processed_text.map(lambda x: binary_class(x))\n",
    "\n"
   ]
  },
  {
   "cell_type": "code",
   "execution_count": 32,
   "metadata": {},
   "outputs": [],
   "source": [
    "# train on stop words removal\n",
    "x = vectorizer.fit_transform(BUG.stopwords_removal).toarray()\n",
    "y = BUG.label\n",
    "\n",
    "# train the classifier\n",
    "g = GaussianNB()  \n",
    "g = g.fit(x, y)  \n",
    "\n",
    "def binary_class2(x):\n",
    "    p = vectorizer.transform(x).toarray()\n",
    "    return g.predict(p)\n",
    "\n",
    "# make our stopwords col full sentence\n",
    "df.stopword = df.stopword.map(lambda x: ' '.join(x))\n",
    "\n",
    "# predict\n",
    "bug_pred['tf-idf-stopwords'] = df.stopword.map(lambda x: binary_class(x))"
   ]
  },
  {
   "cell_type": "code",
   "execution_count": 33,
   "metadata": {},
   "outputs": [],
   "source": [
    "# train on lemmatized removal\n",
    "x = vectorizer.fit_transform(BUG.lemmatized_comment).toarray()\n",
    "y = BUG.label\n",
    "\n",
    "# train the classifier\n",
    "g = GaussianNB()  \n",
    "g = g.fit(x, y)  \n",
    "\n",
    "# make our lemmatizer col full sentence\n",
    "df.lemmatizer = df.lemmatizer.map(lambda x: ' '.join(x))\n",
    "\n",
    "# predict\n",
    "bug_pred['tf-idf+lemmatizer'] = df.lemmatizer.map(lambda x: binary_class(x))"
   ]
  },
  {
   "cell_type": "code",
   "execution_count": 34,
   "metadata": {},
   "outputs": [],
   "source": [
    "# train on lemmatized removal\n",
    "x = vectorizer.fit_transform(BUG.lemmatized_comment).toarray()\n",
    "y = BUG.label\n",
    "\n",
    "# train the classifier\n",
    "g = GaussianNB()  \n",
    "g = g.fit(x, y)  \n",
    "\n",
    "# make our lemmatizer col full sentence\n",
    "df.lemmatizer = df.lemmatizer.map(lambda x: ' '.join(x))\n",
    "\n",
    "# predict\n",
    "bug_pred['tf-idf+lemmatizer'] = df.lemmatizer.map(lambda x: binary_class(x))"
   ]
  },
  {
   "cell_type": "code",
   "execution_count": 35,
   "metadata": {
    "scrolled": true
   },
   "outputs": [
    {
     "data": {
      "text/html": [
       "<div>\n",
       "<style scoped>\n",
       "    .dataframe tbody tr th:only-of-type {\n",
       "        vertical-align: middle;\n",
       "    }\n",
       "\n",
       "    .dataframe tbody tr th {\n",
       "        vertical-align: top;\n",
       "    }\n",
       "\n",
       "    .dataframe thead th {\n",
       "        text-align: right;\n",
       "    }\n",
       "</style>\n",
       "<table border=\"1\" class=\"dataframe\">\n",
       "  <thead>\n",
       "    <tr style=\"text-align: right;\">\n",
       "      <th></th>\n",
       "      <th>review</th>\n",
       "      <th>label</th>\n",
       "      <th>tf-idf</th>\n",
       "      <th>tf-idf-stopwords</th>\n",
       "      <th>tf-idf+lemmatizer</th>\n",
       "    </tr>\n",
       "  </thead>\n",
       "  <tbody>\n",
       "    <tr>\n",
       "      <td>0</td>\n",
       "      <td>A great game to be during times  Nice</td>\n",
       "      <td>Rating</td>\n",
       "      <td>Not_Bug</td>\n",
       "      <td>Not_Bug</td>\n",
       "      <td>Not_Bug</td>\n",
       "    </tr>\n",
       "    <tr>\n",
       "      <td>1</td>\n",
       "      <td>I truly love pandora</td>\n",
       "      <td>UserExperience</td>\n",
       "      <td>Not_Bug</td>\n",
       "      <td>Not_Bug</td>\n",
       "      <td>Not_Bug</td>\n",
       "    </tr>\n",
       "    <tr>\n",
       "      <td>2</td>\n",
       "      <td>I need all the help I need 5ft and I need to l...</td>\n",
       "      <td>UserExperience</td>\n",
       "      <td>Bug</td>\n",
       "      <td>Not_Bug</td>\n",
       "      <td>Not_Bug</td>\n",
       "    </tr>\n",
       "    <tr>\n",
       "      <td>3</td>\n",
       "      <td>it  s not great but it  s good</td>\n",
       "      <td>Rating</td>\n",
       "      <td>Not_Bug</td>\n",
       "      <td>Not_Bug</td>\n",
       "      <td>Not_Bug</td>\n",
       "    </tr>\n",
       "    <tr>\n",
       "      <td>4</td>\n",
       "      <td>I think this is cool this is learning and and ...</td>\n",
       "      <td>UserExperience</td>\n",
       "      <td>Not_Bug</td>\n",
       "      <td>Not_Bug</td>\n",
       "      <td>Not_Bug</td>\n",
       "    </tr>\n",
       "    <tr>\n",
       "      <td>...</td>\n",
       "      <td>...</td>\n",
       "      <td>...</td>\n",
       "      <td>...</td>\n",
       "      <td>...</td>\n",
       "      <td>...</td>\n",
       "    </tr>\n",
       "    <tr>\n",
       "      <td>379</td>\n",
       "      <td>Really good for</td>\n",
       "      <td>Rating</td>\n",
       "      <td>Not_Bug</td>\n",
       "      <td>Not_Bug</td>\n",
       "      <td>Not_Bug</td>\n",
       "    </tr>\n",
       "    <tr>\n",
       "      <td>380</td>\n",
       "      <td>It is my first time to use this  see who it is</td>\n",
       "      <td>UserExperience</td>\n",
       "      <td>Not_Bug</td>\n",
       "      <td>Not_Bug</td>\n",
       "      <td>Not_Bug</td>\n",
       "    </tr>\n",
       "    <tr>\n",
       "      <td>381</td>\n",
       "      <td>I love it</td>\n",
       "      <td>Rating</td>\n",
       "      <td>Not_Bug</td>\n",
       "      <td>Not_Bug</td>\n",
       "      <td>Not_Bug</td>\n",
       "    </tr>\n",
       "    <tr>\n",
       "      <td>382</td>\n",
       "      <td>fun fact it  s fun</td>\n",
       "      <td>Rating</td>\n",
       "      <td>Not_Bug</td>\n",
       "      <td>Not_Bug</td>\n",
       "      <td>Not_Bug</td>\n",
       "    </tr>\n",
       "    <tr>\n",
       "      <td>383</td>\n",
       "      <td>I dont stay in and wont work everyday  I love ...</td>\n",
       "      <td>UserExperience</td>\n",
       "      <td>Bug</td>\n",
       "      <td>Not_Bug</td>\n",
       "      <td>Not_Bug</td>\n",
       "    </tr>\n",
       "  </tbody>\n",
       "</table>\n",
       "<p>384 rows × 5 columns</p>\n",
       "</div>"
      ],
      "text/plain": [
       "                                                review           label  \\\n",
       "0                A great game to be during times  Nice          Rating   \n",
       "1                                 I truly love pandora  UserExperience   \n",
       "2    I need all the help I need 5ft and I need to l...  UserExperience   \n",
       "3                       it  s not great but it  s good          Rating   \n",
       "4    I think this is cool this is learning and and ...  UserExperience   \n",
       "..                                                 ...             ...   \n",
       "379                                   Really good for           Rating   \n",
       "380   It is my first time to use this  see who it is    UserExperience   \n",
       "381                                          I love it          Rating   \n",
       "382                                 fun fact it  s fun          Rating   \n",
       "383  I dont stay in and wont work everyday  I love ...  UserExperience   \n",
       "\n",
       "      tf-idf tf-idf-stopwords tf-idf+lemmatizer  \n",
       "0    Not_Bug          Not_Bug           Not_Bug  \n",
       "1    Not_Bug          Not_Bug           Not_Bug  \n",
       "2        Bug          Not_Bug           Not_Bug  \n",
       "3    Not_Bug          Not_Bug           Not_Bug  \n",
       "4    Not_Bug          Not_Bug           Not_Bug  \n",
       "..       ...              ...               ...  \n",
       "379  Not_Bug          Not_Bug           Not_Bug  \n",
       "380  Not_Bug          Not_Bug           Not_Bug  \n",
       "381  Not_Bug          Not_Bug           Not_Bug  \n",
       "382  Not_Bug          Not_Bug           Not_Bug  \n",
       "383      Bug          Not_Bug           Not_Bug  \n",
       "\n",
       "[384 rows x 5 columns]"
      ]
     },
     "execution_count": 35,
     "metadata": {},
     "output_type": "execute_result"
    }
   ],
   "source": [
    "bug_pred['tf-idf'] = bug_pred['tf-idf'].apply(''.join)\n",
    "bug_pred['tf-idf+lemmatizer'] = bug_pred['tf-idf+lemmatizer'].apply(''.join)\n",
    "bug_pred['tf-idf-stopwords'] = bug_pred['tf-idf-stopwords'].apply(''.join)\n",
    "bug_pred"
   ]
  },
  {
   "cell_type": "code",
   "execution_count": 66,
   "metadata": {
    "scrolled": true
   },
   "outputs": [
    {
     "data": {
      "text/html": [
       "<div>\n",
       "<style scoped>\n",
       "    .dataframe tbody tr th:only-of-type {\n",
       "        vertical-align: middle;\n",
       "    }\n",
       "\n",
       "    .dataframe tbody tr th {\n",
       "        vertical-align: top;\n",
       "    }\n",
       "\n",
       "    .dataframe thead th {\n",
       "        text-align: right;\n",
       "    }\n",
       "</style>\n",
       "<table border=\"1\" class=\"dataframe\">\n",
       "  <thead>\n",
       "    <tr style=\"text-align: right;\">\n",
       "      <th></th>\n",
       "      <th>technique</th>\n",
       "      <th>metric (prec, recall, f)</th>\n",
       "    </tr>\n",
       "  </thead>\n",
       "  <tbody>\n",
       "    <tr>\n",
       "      <td>0</td>\n",
       "      <td>tf-idf</td>\n",
       "      <td>(0.04, 0.10416666666666667, 0.0578034682080924...</td>\n",
       "    </tr>\n",
       "    <tr>\n",
       "      <td>1</td>\n",
       "      <td>tf-idf-stopwords</td>\n",
       "      <td>(0.01953125, 0.25, 0.036231884057971016, None)</td>\n",
       "    </tr>\n",
       "    <tr>\n",
       "      <td>2</td>\n",
       "      <td>tf-idf+lemmatization</td>\n",
       "      <td>(0.01953125, 0.25, 0.036231884057971016, None)</td>\n",
       "    </tr>\n",
       "  </tbody>\n",
       "</table>\n",
       "</div>"
      ],
      "text/plain": [
       "              technique                           metric (prec, recall, f)\n",
       "0                tf-idf  (0.04, 0.10416666666666667, 0.0578034682080924...\n",
       "1      tf-idf-stopwords     (0.01953125, 0.25, 0.036231884057971016, None)\n",
       "2  tf-idf+lemmatization     (0.01953125, 0.25, 0.036231884057971016, None)"
      ]
     },
     "execution_count": 66,
     "metadata": {},
     "output_type": "execute_result"
    }
   ],
   "source": [
    "\n",
    "y_true = bug_pred.label\n",
    "y_pred = bug_pred['tf-idf']\n",
    "\n",
    "\n",
    "# tf-idf\n",
    "f = precision_recall_fscore_support(y_true, y_pred, average = \"macro\")\n",
    "\n",
    "# tf-idf-stopwords\n",
    "f2 = precision_recall_fscore_support(y_true, binary_pred['tf-idf-stopwords'], average = \"macro\")\n",
    "\n",
    "\n",
    "# tf-idf+lemma\n",
    "f3 = precision_recall_fscore_support(y_true, binary_pred['tf-idf+lemmatizer'], average = \"macro\")\n",
    "\n",
    "\n",
    "\n",
    "\n",
    "pd.DataFrame({'technique' : ['tf-idf', 'tf-idf-stopwords', 'tf-idf+lemmatization'], \n",
    "              'metric (prec, recall, f)' : [f, f2, f3]})"
   ]
  },
  {
   "cell_type": "markdown",
   "metadata": {},
   "source": [
    "---\n",
    "\n",
    "# Repeat for Feature"
   ]
  },
  {
   "cell_type": "code",
   "execution_count": 37,
   "metadata": {},
   "outputs": [],
   "source": [
    "with open('data/REJ_data/Feature_tt.json', encoding='utf-8-sig') as json_file:\n",
    "    train = json.load(json_file)\n",
    "    \n",
    "FEAT = pd.DataFrame.from_dict(json_normalize(train), orient='columns')"
   ]
  },
  {
   "cell_type": "code",
   "execution_count": 38,
   "metadata": {},
   "outputs": [],
   "source": [
    "# make bow of test data\n",
    "from sklearn.feature_extraction.text import TfidfTransformer\n",
    "vectorizer = TfidfVectorizer(use_idf = True)\n",
    "\n",
    "x = vectorizer.fit_transform(FEAT.comment).toarray()\n",
    "y = FEAT.label\n",
    "\n",
    "# train the classifier\n",
    "g = GaussianNB()  \n",
    "g = g.fit(x, y)  \n",
    "\n",
    "\n",
    "# predict on test data\n",
    "def binary_class(x):\n",
    "    p = vectorizer.transform([x]).toarray()\n",
    "    return g.predict(p)\n",
    "    \n",
    "\n",
    "feat_pred = pd.DataFrame({'review' : df.processed_text, 'label' : reviewed.label})\n",
    "feat_pred['tf-idf'] = df.processed_text.map(lambda x: binary_class(x))\n",
    "\n"
   ]
  },
  {
   "cell_type": "code",
   "execution_count": 39,
   "metadata": {},
   "outputs": [],
   "source": [
    "# train on stop words removal\n",
    "x = vectorizer.fit_transform(FEAT.stopwords_removal).toarray()\n",
    "y = FEAT.label\n",
    "\n",
    "# train the classifier\n",
    "g = GaussianNB()  \n",
    "g = g.fit(x, y)  \n",
    "\n",
    "def binary_class2(x):\n",
    "    p = vectorizer.transform(x).toarray()\n",
    "    return g.predict(p)\n",
    "\n",
    "# make our stopwords col full sentence\n",
    "df.stopword = df.stopword.map(lambda x: ' '.join(x))\n",
    "\n",
    "# predict\n",
    "feat_pred['tf-idf-stopwords'] = df.stopword.map(lambda x: binary_class(x))"
   ]
  },
  {
   "cell_type": "code",
   "execution_count": 40,
   "metadata": {},
   "outputs": [],
   "source": [
    "# train on lemmatized removal\n",
    "x = vectorizer.fit_transform(FEAT.lemmatized_comment).toarray()\n",
    "y = FEAT.label\n",
    "\n",
    "# train the classifier\n",
    "g = GaussianNB()  \n",
    "g = g.fit(x, y)  \n",
    "\n",
    "# make our lemmatizer col full sentence\n",
    "df.lemmatizer = df.lemmatizer.map(lambda x: ' '.join(x))\n",
    "\n",
    "# predict\n",
    "feat_pred['tf-idf+lemmatizer'] = df.lemmatizer.map(lambda x: binary_class(x))"
   ]
  },
  {
   "cell_type": "code",
   "execution_count": 34,
   "metadata": {},
   "outputs": [],
   "source": [
    "# train on lemmatized removal\n",
    "x = vectorizer.fit_transform(FEAT.lemmatized_comment).toarray()\n",
    "y = FEAT.label\n",
    "\n",
    "# train the classifier\n",
    "g = GaussianNB()  \n",
    "g = g.fit(x, y)  \n",
    "\n",
    "# make our lemmatizer col full sentence\n",
    "df.lemmatizer = df.lemmatizer.map(lambda x: ' '.join(x))\n",
    "\n",
    "# predict\n",
    "feat_pred['tf-idf+lemmatizer'] = df.lemmatizer.map(lambda x: binary_class(x))"
   ]
  },
  {
   "cell_type": "code",
   "execution_count": 41,
   "metadata": {
    "scrolled": true
   },
   "outputs": [
    {
     "data": {
      "text/html": [
       "<div>\n",
       "<style scoped>\n",
       "    .dataframe tbody tr th:only-of-type {\n",
       "        vertical-align: middle;\n",
       "    }\n",
       "\n",
       "    .dataframe tbody tr th {\n",
       "        vertical-align: top;\n",
       "    }\n",
       "\n",
       "    .dataframe thead th {\n",
       "        text-align: right;\n",
       "    }\n",
       "</style>\n",
       "<table border=\"1\" class=\"dataframe\">\n",
       "  <thead>\n",
       "    <tr style=\"text-align: right;\">\n",
       "      <th></th>\n",
       "      <th>review</th>\n",
       "      <th>label</th>\n",
       "      <th>tf-idf</th>\n",
       "      <th>tf-idf-stopwords</th>\n",
       "      <th>tf-idf+lemmatizer</th>\n",
       "    </tr>\n",
       "  </thead>\n",
       "  <tbody>\n",
       "    <tr>\n",
       "      <td>0</td>\n",
       "      <td>A great game to be during times  Nice</td>\n",
       "      <td>Rating</td>\n",
       "      <td>Feature</td>\n",
       "      <td>Not_Feature</td>\n",
       "      <td>Not_Feature</td>\n",
       "    </tr>\n",
       "    <tr>\n",
       "      <td>1</td>\n",
       "      <td>I truly love pandora</td>\n",
       "      <td>UserExperience</td>\n",
       "      <td>Feature</td>\n",
       "      <td>Not_Feature</td>\n",
       "      <td>Not_Feature</td>\n",
       "    </tr>\n",
       "    <tr>\n",
       "      <td>2</td>\n",
       "      <td>I need all the help I need 5ft and I need to l...</td>\n",
       "      <td>UserExperience</td>\n",
       "      <td>Not_Feature</td>\n",
       "      <td>Not_Feature</td>\n",
       "      <td>Not_Feature</td>\n",
       "    </tr>\n",
       "    <tr>\n",
       "      <td>3</td>\n",
       "      <td>it  s not great but it  s good</td>\n",
       "      <td>Rating</td>\n",
       "      <td>Not_Feature</td>\n",
       "      <td>Not_Feature</td>\n",
       "      <td>Not_Feature</td>\n",
       "    </tr>\n",
       "    <tr>\n",
       "      <td>4</td>\n",
       "      <td>I think this is cool this is learning and and ...</td>\n",
       "      <td>UserExperience</td>\n",
       "      <td>Feature</td>\n",
       "      <td>Not_Feature</td>\n",
       "      <td>Not_Feature</td>\n",
       "    </tr>\n",
       "    <tr>\n",
       "      <td>...</td>\n",
       "      <td>...</td>\n",
       "      <td>...</td>\n",
       "      <td>...</td>\n",
       "      <td>...</td>\n",
       "      <td>...</td>\n",
       "    </tr>\n",
       "    <tr>\n",
       "      <td>379</td>\n",
       "      <td>Really good for</td>\n",
       "      <td>Rating</td>\n",
       "      <td>Not_Feature</td>\n",
       "      <td>Not_Feature</td>\n",
       "      <td>Not_Feature</td>\n",
       "    </tr>\n",
       "    <tr>\n",
       "      <td>380</td>\n",
       "      <td>It is my first time to use this  see who it is</td>\n",
       "      <td>UserExperience</td>\n",
       "      <td>Feature</td>\n",
       "      <td>Not_Feature</td>\n",
       "      <td>Not_Feature</td>\n",
       "    </tr>\n",
       "    <tr>\n",
       "      <td>381</td>\n",
       "      <td>I love it</td>\n",
       "      <td>Rating</td>\n",
       "      <td>Not_Feature</td>\n",
       "      <td>Not_Feature</td>\n",
       "      <td>Not_Feature</td>\n",
       "    </tr>\n",
       "    <tr>\n",
       "      <td>382</td>\n",
       "      <td>fun fact it  s fun</td>\n",
       "      <td>Rating</td>\n",
       "      <td>Not_Feature</td>\n",
       "      <td>Not_Feature</td>\n",
       "      <td>Not_Feature</td>\n",
       "    </tr>\n",
       "    <tr>\n",
       "      <td>383</td>\n",
       "      <td>I dont stay in and wont work everyday  I love ...</td>\n",
       "      <td>UserExperience</td>\n",
       "      <td>Feature</td>\n",
       "      <td>Not_Feature</td>\n",
       "      <td>Not_Feature</td>\n",
       "    </tr>\n",
       "  </tbody>\n",
       "</table>\n",
       "<p>384 rows × 5 columns</p>\n",
       "</div>"
      ],
      "text/plain": [
       "                                                review           label  \\\n",
       "0                A great game to be during times  Nice          Rating   \n",
       "1                                 I truly love pandora  UserExperience   \n",
       "2    I need all the help I need 5ft and I need to l...  UserExperience   \n",
       "3                       it  s not great but it  s good          Rating   \n",
       "4    I think this is cool this is learning and and ...  UserExperience   \n",
       "..                                                 ...             ...   \n",
       "379                                   Really good for           Rating   \n",
       "380   It is my first time to use this  see who it is    UserExperience   \n",
       "381                                          I love it          Rating   \n",
       "382                                 fun fact it  s fun          Rating   \n",
       "383  I dont stay in and wont work everyday  I love ...  UserExperience   \n",
       "\n",
       "          tf-idf tf-idf-stopwords tf-idf+lemmatizer  \n",
       "0        Feature      Not_Feature       Not_Feature  \n",
       "1        Feature      Not_Feature       Not_Feature  \n",
       "2    Not_Feature      Not_Feature       Not_Feature  \n",
       "3    Not_Feature      Not_Feature       Not_Feature  \n",
       "4        Feature      Not_Feature       Not_Feature  \n",
       "..           ...              ...               ...  \n",
       "379  Not_Feature      Not_Feature       Not_Feature  \n",
       "380      Feature      Not_Feature       Not_Feature  \n",
       "381  Not_Feature      Not_Feature       Not_Feature  \n",
       "382  Not_Feature      Not_Feature       Not_Feature  \n",
       "383      Feature      Not_Feature       Not_Feature  \n",
       "\n",
       "[384 rows x 5 columns]"
      ]
     },
     "execution_count": 41,
     "metadata": {},
     "output_type": "execute_result"
    }
   ],
   "source": [
    "feat_pred['tf-idf'] = feat_pred['tf-idf'].apply(''.join)\n",
    "feat_pred['tf-idf+lemmatizer'] = feat_pred['tf-idf+lemmatizer'].apply(''.join)\n",
    "feat_pred['tf-idf-stopwords'] = feat_pred['tf-idf-stopwords'].apply(''.join)\n",
    "feat_pred"
   ]
  },
  {
   "cell_type": "code",
   "execution_count": 64,
   "metadata": {
    "scrolled": false
   },
   "outputs": [
    {
     "data": {
      "text/html": [
       "<div>\n",
       "<style scoped>\n",
       "    .dataframe tbody tr th:only-of-type {\n",
       "        vertical-align: middle;\n",
       "    }\n",
       "\n",
       "    .dataframe tbody tr th {\n",
       "        vertical-align: top;\n",
       "    }\n",
       "\n",
       "    .dataframe thead th {\n",
       "        text-align: right;\n",
       "    }\n",
       "</style>\n",
       "<table border=\"1\" class=\"dataframe\">\n",
       "  <thead>\n",
       "    <tr style=\"text-align: right;\">\n",
       "      <th></th>\n",
       "      <th>technique</th>\n",
       "      <th>metric (prec, recall, f)</th>\n",
       "    </tr>\n",
       "  </thead>\n",
       "  <tbody>\n",
       "    <tr>\n",
       "      <td>0</td>\n",
       "      <td>tf-idf</td>\n",
       "      <td>(0.02857142857142857, 0.13999999999999999, 0.0...</td>\n",
       "    </tr>\n",
       "    <tr>\n",
       "      <td>1</td>\n",
       "      <td>tf-idf-stopwords</td>\n",
       "      <td>(0.01953125, 0.25, 0.036231884057971016, None)</td>\n",
       "    </tr>\n",
       "    <tr>\n",
       "      <td>2</td>\n",
       "      <td>tf-idf+lemmatization</td>\n",
       "      <td>(0.01953125, 0.25, 0.036231884057971016, None)</td>\n",
       "    </tr>\n",
       "  </tbody>\n",
       "</table>\n",
       "</div>"
      ],
      "text/plain": [
       "              technique                           metric (prec, recall, f)\n",
       "0                tf-idf  (0.02857142857142857, 0.13999999999999999, 0.0...\n",
       "1      tf-idf-stopwords     (0.01953125, 0.25, 0.036231884057971016, None)\n",
       "2  tf-idf+lemmatization     (0.01953125, 0.25, 0.036231884057971016, None)"
      ]
     },
     "execution_count": 64,
     "metadata": {},
     "output_type": "execute_result"
    }
   ],
   "source": [
    "\n",
    "y_true = feat_pred.label\n",
    "y_pred = feat_pred['tf-idf']\n",
    "\n",
    "\n",
    "\n",
    "# tf-idf\n",
    "f = precision_recall_fscore_support(y_true, y_pred, average = \"macro\")\n",
    "\n",
    "# tf-idf-stopwords\n",
    "f2 = precision_recall_fscore_support(y_true, binary_pred['tf-idf-stopwords'], average = \"macro\")\n",
    "\n",
    "\n",
    "# tf-idf+lemma\n",
    "f3 = precision_recall_fscore_support(y_true, binary_pred['tf-idf+lemmatizer'], average = \"macro\")\n",
    "\n",
    "\n",
    "\n",
    "\n",
    "pd.DataFrame({'technique' : ['tf-idf', 'tf-idf-stopwords', 'tf-idf+lemmatization'], \n",
    "              'metric (prec, recall, f)' : [f, f2, f3]})"
   ]
  }
 ],
 "metadata": {
  "kernelspec": {
   "display_name": "Python 3",
   "language": "python",
   "name": "python3"
  },
  "language_info": {
   "codemirror_mode": {
    "name": "ipython",
    "version": 3
   },
   "file_extension": ".py",
   "mimetype": "text/x-python",
   "name": "python",
   "nbconvert_exporter": "python",
   "pygments_lexer": "ipython3",
   "version": "3.7.4"
  }
 },
 "nbformat": 4,
 "nbformat_minor": 2
}
