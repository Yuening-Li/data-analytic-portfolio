{
  "nbformat": 4,
  "nbformat_minor": 0,
  "metadata": {
    "colab": {
      "name": "mini_project2.ipynb",
      "provenance": [],
      "collapsed_sections": []
    },
    "kernelspec": {
      "name": "python3",
      "display_name": "Python 3"
    },
    "accelerator": "GPU"
  },
  "cells": [
    {
      "cell_type": "markdown",
      "metadata": {
        "id": "O-97SDET3JG-",
        "colab_type": "text"
      },
      "source": [
        "# Mini Project 2. App Reviews Sentiment Analysis\n",
        "\n",
        "### Yuening Li\n",
        "\n",
        "This project build a Recurrent Neural Network (RNN) model for predicting App reviews sentiment into either \"Positive\", or \"Negative\". \n",
        "\n",
        "The training set for this model would be the training set used in 2015 paper by Maalej and Nabil, ‘On the automatic classification of app reviews’, available at (https://mast.informatik.uni-hamburg.de/app-review-analysis/).\n",
        "\n",
        "The Testing data set used for prediction are the pre-processed app review data in size of 384."
      ]
    },
    {
      "cell_type": "markdown",
      "metadata": {
        "colab_type": "text",
        "id": "rsvlBQYCrE4I"
      },
      "source": [
        "## 1.1 Dependencies \n",
        "First, let's install dependencies, and import the relevant packages we'll need for this project."
      ]
    },
    {
      "cell_type": "code",
      "metadata": {
        "id": "riVZCVK65QTH",
        "colab_type": "code",
        "colab": {}
      },
      "source": [
        "# Import Tensorflow 2.0\n",
        "%tensorflow_version 2.x\n",
        "import tensorflow as tf \n",
        "\n",
        "# Import all remaining packages\n",
        "import numpy as np\n",
        "import os\n",
        "import matplotlib.pyplot as plt\n",
        "import time\n",
        "import functools\n",
        "from IPython import display as ipythondisplay\n",
        "from tqdm import tqdm\n",
        "import string\n",
        "import re\n",
        "import pandas as pd\n",
        "import json\n",
        "from pandas.io.json import json_normalize\n",
        "\n",
        "# Check that we are using a GPU, if not switch runtimes\n",
        "#   using Runtime > Change Runtime Type > GPU\n",
        "assert len(tf.config.list_physical_devices('GPU')) > 0"
      ],
      "execution_count": 0,
      "outputs": []
    },
    {
      "cell_type": "markdown",
      "metadata": {
        "id": "_ajvp0No4qDm",
        "colab_type": "text"
      },
      "source": [
        "## 1.2 Dataset\n",
        "\n",
        "Fetch the data from google drive\n"
      ]
    },
    {
      "cell_type": "code",
      "metadata": {
        "id": "DQeaidgajyg_",
        "colab_type": "code",
        "outputId": "e100e097-d660-4a6f-f4bf-13153a322ee0",
        "colab": {
          "base_uri": "https://localhost:8080/",
          "height": 138
        }
      },
      "source": [
        "# mount google drive to colab\n",
        "from google.colab import drive\n",
        "drive.flush_and_unmount()\n",
        "drive.mount('/content/gdrive')"
      ],
      "execution_count": 2,
      "outputs": [
        {
          "output_type": "stream",
          "text": [
            "Drive not mounted, so nothing to flush and unmount.\n",
            "Go to this URL in a browser: https://accounts.google.com/o/oauth2/auth?client_id=947318989803-6bn6qk8qdgf4n4g3pfee6491hc0brc4i.apps.googleusercontent.com&redirect_uri=urn%3aietf%3awg%3aoauth%3a2.0%3aoob&response_type=code&scope=email%20https%3a%2f%2fwww.googleapis.com%2fauth%2fdocs.test%20https%3a%2f%2fwww.googleapis.com%2fauth%2fdrive%20https%3a%2f%2fwww.googleapis.com%2fauth%2fdrive.photos.readonly%20https%3a%2f%2fwww.googleapis.com%2fauth%2fpeopleapi.readonly\n",
            "\n",
            "Enter your authorization code:\n",
            "··········\n",
            "Mounted at /content/gdrive\n"
          ],
          "name": "stdout"
        }
      ]
    },
    {
      "cell_type": "code",
      "metadata": {
        "id": "N_focCoZj5za",
        "colab_type": "code",
        "outputId": "3636df9a-3725-4d6b-a36d-bf8c28321092",
        "colab": {
          "base_uri": "https://localhost:8080/",
          "height": 50
        }
      },
      "source": [
        "ROOT_PATH ='/content/gdrive/My Drive/App_Reviews'\n",
        "TRAIN_PATH = ROOT_PATH + \"/all.json\"\n",
        "\n",
        "with open(TRAIN_PATH, encoding='utf-8-sig') as json_file:\n",
        "    json_data = json.load(json_file)\n",
        "train_data = pd.DataFrame.from_dict(json_normalize(json_data), orient='columns')[['comment','rating']]"
      ],
      "execution_count": 3,
      "outputs": [
        {
          "output_type": "stream",
          "text": [
            "/usr/local/lib/python3.6/dist-packages/ipykernel_launcher.py:7: FutureWarning: pandas.io.json.json_normalize is deprecated, use pandas.json_normalize instead\n",
            "  import sys\n"
          ],
          "name": "stderr"
        }
      ]
    },
    {
      "cell_type": "markdown",
      "metadata": {
        "id": "vFB8AfWqm35u",
        "colab_type": "text"
      },
      "source": [
        "In the meta data of app reviews, sentiment could be measured by star rating, a numeric value between 1 and 5 given by the user. \n",
        " \n",
        "\n"
      ]
    },
    {
      "cell_type": "code",
      "metadata": {
        "id": "P7dFnP5q3Jve",
        "colab_type": "code",
        "outputId": "68780d69-a5f6-458a-998d-34e0b91cf516",
        "colab": {
          "base_uri": "https://localhost:8080/",
          "height": 293
        }
      },
      "source": [
        "train_data.groupby('rating').count().plot.bar()"
      ],
      "execution_count": 4,
      "outputs": [
        {
          "output_type": "execute_result",
          "data": {
            "text/plain": [
              "<matplotlib.axes._subplots.AxesSubplot at 0x7f65d0df4ac8>"
            ]
          },
          "metadata": {
            "tags": []
          },
          "execution_count": 4
        },
        {
          "output_type": "display_data",
          "data": {
            "image/png": "[encoded data removed]",
            "text/plain": [
              "<Figure size 432x288 with 1 Axes>"
            ]
          },
          "metadata": {
            "tags": [],
            "needs_background": "light"
          }
        }
      ]
    },
    {
      "cell_type": "markdown",
      "metadata": {
        "colab_type": "text",
        "id": "hKF3EHJlCAj2"
      },
      "source": [
        "In the bar plot above, we could see that we have unblanced distribution of reviews sentiment. \n",
        "\n",
        "Next, we convert the rating to either 1 for \"positive\" or  0 for \"negative\". Notice to labels need to be binary encoded to use in model. To balance out, we keep the 5 star reviews as \"positive\" and 1 or 2 star as \"negative\"."
      ]
    },
    {
      "cell_type": "code",
      "metadata": {
        "id": "11toYzhEEKDz",
        "colab_type": "code",
        "colab": {}
      },
      "source": [
        "#  train_data = train_data[(train_data['rating'] <= 2) | ((train_data['rating'] == 5) & (len(train_data['comment'])>200))]\n",
        "train_data = train_data.loc[(train_data['rating'] <=2) | ((train_data['rating'] == 5))]\n",
        "train_data[\"sentiment\"] = np.where(train_data.rating ==5, 1, 0)\n"
      ],
      "execution_count": 0,
      "outputs": []
    },
    {
      "cell_type": "markdown",
      "metadata": {
        "id": "bXT9AvslBQ1m",
        "colab_type": "text"
      },
      "source": [
        "#### reviews pre-processing:\n",
        "Apply the following:\n",
        "- drop duplicate.\n",
        "- Remove the numbers and non-ASCII characters.\n",
        "- Remove punctuations.\n",
        "- Remove multiple characters if they occur more than 2 times continuously."
      ]
    },
    {
      "cell_type": "code",
      "metadata": {
        "id": "V3Eu-yCwEdNk",
        "colab_type": "code",
        "outputId": "740a72ed-af70-4f70-e31b-112b037bb75b",
        "colab": {
          "base_uri": "https://localhost:8080/",
          "height": 50
        }
      },
      "source": [
        "import nltk\n",
        "nltk.download('words')\n",
        "words = set(nltk.corpus.words.words())"
      ],
      "execution_count": 0,
      "outputs": [
        {
          "output_type": "stream",
          "text": [
            "[nltk_data] Downloading package words to /root/nltk_data...\n",
            "[nltk_data]   Package words is already up-to-date!\n"
          ],
          "name": "stdout"
        }
      ]
    },
    {
      "cell_type": "code",
      "metadata": {
        "id": "T1M1vK7JBVPs",
        "colab_type": "code",
        "colab": {}
      },
      "source": [
        "# drop duplicate\n",
        "train_data.drop_duplicates(subset= [\"comment\",\"sentiment\"],inplace = True)\n",
        "train_data[\"id\"] = range(len(train_data.index))\n",
        "\n",
        "train_data[\"comment\"] = train_data[\"comment\"].astype(str)\n",
        "train_data[\"new_text\"] = train_data[\"comment\"]\n",
        "def clean_sent(sent):\n",
        "    return \" \".join(w for w in nltk.wordpunct_tokenize(sent) \\\n",
        "     if w.lower() in words or not w.isalpha())\n",
        "def remove_num(s): return ''.join([i for i in s if not i.isdigit()])\n",
        "def remove_non_ascii(s): return ''.join([i if 32 < ord(i) < 126 else \" \" for i in s])\n",
        "def remove_punctuation(s): return ''.join([p for p in s if p not in string.punctuation])\n",
        "def remove_multiple_chars(s): return re.sub(r'(.)\\1+', r'\\1\\1', s)\n",
        "new_comment_list =[]\n",
        "for row in train_data.itertuples():\n",
        "    each_text = getattr(row, \"new_text\")\n",
        "    index = int(getattr(row, \"id\"))\n",
        "    #   instead of checking if the row has non-english reviews, remove all words that are non-english, and if the whole sentence is non english, the wholse sentence would become \"\", and would be removed for less than two or less numbers\n",
        "    # remove_words = clean_sent(each_text)\n",
        "    #remove the non-ascii characters\n",
        "    non_ascii = remove_non_ascii(each_text)\n",
        "    non_num = remove_num(non_ascii)\n",
        "    #remove the punctuations\n",
        "    non_punct = remove_punctuation(non_num)\n",
        "    #remove more than 2 times continuously characters\n",
        "    final_value= remove_multiple_chars(non_punct)\n",
        "    new_comment_list.append(final_value)\n",
        "train_data['new_text'] = new_comment_list\n",
        "count = train_data['new_text'].str.split().str.len()\n",
        "train_data =train_data[~(count<=2)]"
      ],
      "execution_count": 0,
      "outputs": []
    },
    {
      "cell_type": "markdown",
      "metadata": {
        "id": "LaIv4F3Yp1f5",
        "colab_type": "text"
      },
      "source": [
        "Inspect our Training dataset"
      ]
    },
    {
      "cell_type": "code",
      "metadata": {
        "id": "uxqebiCMGBf9",
        "colab_type": "code",
        "colab": {}
      },
      "source": [
        "train_data = train_data[['new_text','sentiment']]\n",
        "train_data.rename(columns={'new_text': 'comment'}, inplace=True)"
      ],
      "execution_count": 0,
      "outputs": []
    },
    {
      "cell_type": "code",
      "metadata": {
        "id": "D52v908TEkrz",
        "colab_type": "code",
        "outputId": "2f4ffc1c-c045-454a-b45e-02d3dd6f5b2b",
        "colab": {
          "base_uri": "https://localhost:8080/",
          "height": 212
        }
      },
      "source": [
        "pd.set_option('max_colwidth', 800)\n",
        "train_data.head(5)"
      ],
      "execution_count": 8,
      "outputs": [
        {
          "output_type": "execute_result",
          "data": {
            "text/html": [
              "<div>\n",
              "<style scoped>\n",
              "    .dataframe tbody tr th:only-of-type {\n",
              "        vertical-align: middle;\n",
              "    }\n",
              "\n",
              "    .dataframe tbody tr th {\n",
              "        vertical-align: top;\n",
              "    }\n",
              "\n",
              "    .dataframe thead th {\n",
              "        text-align: right;\n",
              "    }\n",
              "</style>\n",
              "<table border=\"1\" class=\"dataframe\">\n",
              "  <thead>\n",
              "    <tr style=\"text-align: right;\">\n",
              "      <th></th>\n",
              "      <th>comment</th>\n",
              "      <th>sentiment</th>\n",
              "    </tr>\n",
              "  </thead>\n",
              "  <tbody>\n",
              "    <tr>\n",
              "      <th>0</th>\n",
              "      <td>Besides the occasional crash this is an amazing product with tons of potential depending on how you work with it</td>\n",
              "      <td>1</td>\n",
              "    </tr>\n",
              "    <tr>\n",
              "      <th>1</th>\n",
              "      <td>This could be a great app if it was predictable but it is full of bugs and is unpredictable  if you are able to check in take a screen shot of your boarding pass or print a backup copy because you may not be able to access it when you need it most</td>\n",
              "      <td>0</td>\n",
              "    </tr>\n",
              "    <tr>\n",
              "      <th>2</th>\n",
              "      <td>I cant open since the last  updates Popups go crazy on the iPhone  Im uninstalling</td>\n",
              "      <td>0</td>\n",
              "    </tr>\n",
              "    <tr>\n",
              "      <th>3</th>\n",
              "      <td>Use to love this app but its not working after new update Pages wont scroll up or downnone of the different tabs workits frozen Please fix ASAP</td>\n",
              "      <td>0</td>\n",
              "    </tr>\n",
              "    <tr>\n",
              "      <th>5</th>\n",
              "      <td>This app serves its purpose for me perfectly except for the mobile deposit wont work It keeps saying cant find endorsement After calling PNC multiple times about this still no fix</td>\n",
              "      <td>0</td>\n",
              "    </tr>\n",
              "  </tbody>\n",
              "</table>\n",
              "</div>"
            ],
            "text/plain": [
              "                                                                                                                                                                                                                                                   comment  sentiment\n",
              "0                                                                                                                                         Besides the occasional crash this is an amazing product with tons of potential depending on how you work with it          1\n",
              "1  This could be a great app if it was predictable but it is full of bugs and is unpredictable  if you are able to check in take a screen shot of your boarding pass or print a backup copy because you may not be able to access it when you need it most          0\n",
              "2                                                                                                                                                                       I cant open since the last  updates Popups go crazy on the iPhone  Im uninstalling          0\n",
              "3                                                                                                          Use to love this app but its not working after new update Pages wont scroll up or downnone of the different tabs workits frozen Please fix ASAP          0\n",
              "5                                                                      This app serves its purpose for me perfectly except for the mobile deposit wont work It keeps saying cant find endorsement After calling PNC multiple times about this still no fix          0"
            ]
          },
          "metadata": {
            "tags": []
          },
          "execution_count": 8
        }
      ]
    },
    {
      "cell_type": "code",
      "metadata": {
        "id": "akgE6XDEHGYV",
        "colab_type": "code",
        "outputId": "65e40aeb-6efc-495b-e937-591ae75645fe",
        "colab": {
          "base_uri": "https://localhost:8080/",
          "height": 136
        }
      },
      "source": [
        "train_data.groupby(\"sentiment\").count()"
      ],
      "execution_count": 9,
      "outputs": [
        {
          "output_type": "execute_result",
          "data": {
            "text/html": [
              "<div>\n",
              "<style scoped>\n",
              "    .dataframe tbody tr th:only-of-type {\n",
              "        vertical-align: middle;\n",
              "    }\n",
              "\n",
              "    .dataframe tbody tr th {\n",
              "        vertical-align: top;\n",
              "    }\n",
              "\n",
              "    .dataframe thead th {\n",
              "        text-align: right;\n",
              "    }\n",
              "</style>\n",
              "<table border=\"1\" class=\"dataframe\">\n",
              "  <thead>\n",
              "    <tr style=\"text-align: right;\">\n",
              "      <th></th>\n",
              "      <th>comment</th>\n",
              "    </tr>\n",
              "    <tr>\n",
              "      <th>sentiment</th>\n",
              "      <th></th>\n",
              "    </tr>\n",
              "  </thead>\n",
              "  <tbody>\n",
              "    <tr>\n",
              "      <th>0</th>\n",
              "      <td>495</td>\n",
              "    </tr>\n",
              "    <tr>\n",
              "      <th>1</th>\n",
              "      <td>1615</td>\n",
              "    </tr>\n",
              "  </tbody>\n",
              "</table>\n",
              "</div>"
            ],
            "text/plain": [
              "           comment\n",
              "sentiment         \n",
              "0              495\n",
              "1             1615"
            ]
          },
          "metadata": {
            "tags": []
          },
          "execution_count": 9
        }
      ]
    },
    {
      "cell_type": "code",
      "metadata": {
        "id": "szcnEsDWHDGT",
        "colab_type": "code",
        "colab": {
          "base_uri": "https://localhost:8080/",
          "height": 34
        },
        "outputId": "414c4706-f436-4099-cc21-4b9fa58eef9d"
      },
      "source": [
        "print(\"Our train_data contain\", len(train_data[train_data['sentiment']==0]), \" negative reviews and \", len(train_data[train_data['sentiment']==1]), \"positive reviews.\")"
      ],
      "execution_count": 10,
      "outputs": [
        {
          "output_type": "stream",
          "text": [
            "Our train_data contain 495  negative reviews and  1615 positive reviews.\n"
          ],
          "name": "stdout"
        }
      ]
    },
    {
      "cell_type": "markdown",
      "metadata": {
        "colab_type": "text",
        "id": "rNnrKn_lL-IJ"
      },
      "source": [
        "## 1.3 Process the dataset for the learning task\n"
      ]
    },
    {
      "cell_type": "markdown",
      "metadata": {
        "colab_type": "text",
        "id": "LFjSVAlWzf-N"
      },
      "source": [
        "RNN requires array as input type. So we need convert our text-based comment into numerical representation. \n",
        "\n",
        "More specifically, we want to generate a 2D array, with as many rows as number of reviews, and as many columns as a fixed length. \n",
        "\n",
        "We use keras libaray to achieve this. \n",
        "`fit_on_texts` creates a word_index dictionary with  vocabulary index based on word frequency. Every word gets a unique integer value. \n",
        "`texts_to_sequences` Transforms  a list of words to a list of integers using word_index dictionary.\n",
        "`pad_sequences` turn all integer list to a fixed specific length, by either padding with 0s for short reviews and truncate long reviews."
      ]
    },
    {
      "cell_type": "code",
      "metadata": {
        "id": "wuM2DPtQd1FL",
        "colab_type": "code",
        "outputId": "34993b80-eccf-468c-e143-23153f2a4973",
        "colab": {
          "base_uri": "https://localhost:8080/",
          "height": 34
        }
      },
      "source": [
        "from keras.preprocessing.text import Tokenizer\n",
        "from keras.preprocessing.sequence import pad_sequences\n",
        "\n",
        "t  = Tokenizer()\n",
        "comments = train_data['comment'].values\n",
        "t.fit_on_texts(comments)\n",
        "sequences = t.texts_to_sequences(comments)\n",
        "train_pad = pad_sequences(sequences, maxlen=100, padding='post')"
      ],
      "execution_count": 11,
      "outputs": [
        {
          "output_type": "stream",
          "text": [
            "Using TensorFlow backend.\n"
          ],
          "name": "stderr"
        }
      ]
    },
    {
      "cell_type": "markdown",
      "metadata": {
        "id": "dYGkrm2eiZew",
        "colab_type": "text"
      },
      "source": [
        "Visualize dictionary from word to unique index."
      ]
    },
    {
      "cell_type": "code",
      "metadata": {
        "colab_type": "code",
        "id": "FYyNlCNXymwY",
        "outputId": "a6b8fc02-ec2d-4879-e03b-a8252bd59a00",
        "colab": {
          "base_uri": "https://localhost:8080/",
          "height": 34
        }
      },
      "source": [
        "print(list(t.word_index.items())[:10])"
      ],
      "execution_count": 12,
      "outputs": [
        {
          "output_type": "stream",
          "text": [
            "[('i', 1), ('the', 2), ('to', 3), ('it', 4), ('and', 5), ('app', 6), ('a', 7), ('this', 8), ('is', 9), ('my', 10)]\n"
          ],
          "name": "stdout"
        }
      ]
    },
    {
      "cell_type": "markdown",
      "metadata": {
        "id": "vG9UksBOiGlP",
        "colab_type": "text"
      },
      "source": [
        "visualize generated 2d array"
      ]
    },
    {
      "cell_type": "code",
      "metadata": {
        "id": "wMeIIC9EY7-p",
        "colab_type": "code",
        "outputId": "dbf0c49d-98c4-4fd1-9fc9-80b9690444b4",
        "colab": {
          "base_uri": "https://localhost:8080/",
          "height": 185
        }
      },
      "source": [
        "print(train_pad[:10,:10])"
      ],
      "execution_count": 13,
      "outputs": [
        {
          "output_type": "stream",
          "text": [
            "[[ 993    2 1530  302    8    9   47  109  452   23]\n",
            " [   8  128   36    7   16    6   45    4   42 2172]\n",
            " [   1   53   95  143    2  158  272 1533   88  994]\n",
            " [  20    3   13    8    6   26   22   30  230  133]\n",
            " [   8    6 2178   22 2179   11   29  755  842   11]\n",
            " [1537  329  171  844  344  121  756   51   25  627]\n",
            " [ 171    3   36  303   42  125 2185 2186   17   92]\n",
            " [ 302  302  302  302  302   41    4    0    0    0]\n",
            " [   2  540    6  685    9   24 2188   67 2189    4]\n",
            " [   8   20    3   36    7   16    6   15  136  144]]\n"
          ],
          "name": "stdout"
        }
      ]
    },
    {
      "cell_type": "markdown",
      "metadata": {
        "colab_type": "text",
        "id": "hgsVvVxnymwf"
      },
      "source": [
        "split training set into two set of training and valid set"
      ]
    },
    {
      "cell_type": "code",
      "metadata": {
        "colab_type": "code",
        "id": "LF-N8F7BoDRi",
        "colab": {}
      },
      "source": [
        "from sklearn.model_selection import train_test_split\n",
        "# split the training set into two set of training and valid/testing set \n",
        "# in propportion of 0.85:0.15\n",
        "train_comments, valid_comments, train_labels, test_labels =\\\n",
        "train_test_split(train_pad, train_data['sentiment'].values, test_size=0.4, random_state=2020)"
      ],
      "execution_count": 0,
      "outputs": []
    },
    {
      "cell_type": "code",
      "metadata": {
        "id": "qAL1laLUXw75",
        "colab_type": "code",
        "outputId": "d7166c70-c361-4e73-b1e0-5677161e2ee9",
        "colab": {
          "base_uri": "https://localhost:8080/",
          "height": 34
        }
      },
      "source": [
        "print(\"Train shpae\", train_comments.shape, \"Test shape\", valid_comments.shape )"
      ],
      "execution_count": 17,
      "outputs": [
        {
          "output_type": "stream",
          "text": [
            "Train shpae (1266, 100) Test shape (844, 100)\n"
          ],
          "name": "stdout"
        }
      ]
    },
    {
      "cell_type": "markdown",
      "metadata": {
        "colab_type": "text",
        "id": "r6oUuElIMgVx"
      },
      "source": [
        "## 1.4 The Recurrent Neural Network (RNN) model"
      ]
    },
    {
      "cell_type": "markdown",
      "metadata": {
        "colab_type": "text",
        "id": "m8gPwEjRzf-Z"
      },
      "source": [
        "Now we can define and train a simple RNN model on app reviews dataset\n",
        "\n",
        "We'll be using `tf.keras.Sequential` to define the model. Five layers are used to define the model:\n",
        "\n",
        "* `tf.keras.layers.Embedding`: This is the input layer, with input parameter of `vocab_size` = tokenizer dictionary length+1, `embedding_dim` =128 dimentions use to represent each word, `input_length`=length of train_padding.\n",
        "* `tf.keras.layers.LSTM`: Our LSTM network, with 128 units. \n",
        "* `tf.keras.layers.Dropout`: The dropout layer, prevent overfitting.\n",
        "* `tf.keras.layers.Dense` and `tf.keras.layers.Activation`: The output layer, with sigmoid activation function.\n",
        "\n"
      ]
    },
    {
      "cell_type": "markdown",
      "metadata": {
        "id": "rlaOqndqBmJo",
        "colab_type": "text"
      },
      "source": [
        "### Define the RNN model\n",
        "\n",
        "Now, we will define a function that we will use to actually build the model."
      ]
    },
    {
      "cell_type": "markdown",
      "metadata": {
        "id": "NpMzIpXtMWks",
        "colab_type": "text"
      },
      "source": [
        "Try Model 2. LSTM"
      ]
    },
    {
      "cell_type": "markdown",
      "metadata": {
        "id": "IbWU4dMJmMvq",
        "colab_type": "text"
      },
      "source": [
        "Define the RNN model within the `build_model` function, and then call the function just defined to instantiate the model\n"
      ]
    },
    {
      "cell_type": "code",
      "metadata": {
        "colab_type": "code",
        "id": "MtCrdfzEI2N0",
        "colab": {}
      },
      "source": [
        "### Defining the RNN Model ###\n",
        "def build_model(vocab_size, embedding_dim,words_limit,rnn_units):\n",
        "  rnn_model = tf.keras.Sequential([\n",
        "    tf.keras.layers.Embedding(vocab_size, embedding_dim,input_length=words_limit),\n",
        "    tf.keras.layers.LSTM(128),\n",
        "    tf.keras.layers.Dropout(0.4),\n",
        "    tf.keras.layers.Dense(1),\n",
        "    tf.keras.layers.Activation('sigmoid')\n",
        "  ])\n",
        "\n",
        "  return rnn_model\n",
        "\n",
        "rnn_model = build_model(len(t.word_index)+1, 128,100, rnn_units=128)"
      ],
      "execution_count": 0,
      "outputs": []
    },
    {
      "cell_type": "code",
      "metadata": {
        "id": "RwG1DD6rDrRM",
        "colab_type": "code",
        "outputId": "fc0bbc19-b250-44d6-9802-c5707d438c0c",
        "colab": {
          "base_uri": "https://localhost:8080/",
          "height": 319
        }
      },
      "source": [
        "rnn_model.summary()"
      ],
      "execution_count": 49,
      "outputs": [
        {
          "output_type": "stream",
          "text": [
            "Model: \"sequential_2\"\n",
            "_________________________________________________________________\n",
            "Layer (type)                 Output Shape              Param #   \n",
            "=================================================================\n",
            "embedding_3 (Embedding)      (None, 100, 128)          609408    \n",
            "_________________________________________________________________\n",
            "lstm_3 (LSTM)                (None, 128)               131584    \n",
            "_________________________________________________________________\n",
            "dropout_3 (Dropout)          (None, 128)               0         \n",
            "_________________________________________________________________\n",
            "dense_3 (Dense)              (None, 1)                 129       \n",
            "_________________________________________________________________\n",
            "activation_1 (Activation)    (None, 1)                 0         \n",
            "=================================================================\n",
            "Total params: 741,121\n",
            "Trainable params: 741,121\n",
            "Non-trainable params: 0\n",
            "_________________________________________________________________\n"
          ],
          "name": "stdout"
        }
      ]
    },
    {
      "cell_type": "markdown",
      "metadata": {
        "id": "S78G3F729yzO",
        "colab_type": "text"
      },
      "source": [
        "### Train and test the RNN model\n",
        "\n",
        "Now, as before, we can define the loss function, optimizer, and metrics through the `compile` method. Compile the CNN model with an Adam optimizer with loss function of `binary_crossentropy`"
      ]
    },
    {
      "cell_type": "code",
      "metadata": {
        "id": "bLpiie2y9yIy",
        "colab_type": "code",
        "colab": {}
      },
      "source": [
        "rnn_model.compile(optimizer='adam', loss='binary_crossentropy', metrics=['accuracy'])"
      ],
      "execution_count": 0,
      "outputs": []
    },
    {
      "cell_type": "markdown",
      "metadata": {
        "id": "9KhdhaDhLb1o",
        "colab_type": "text"
      },
      "source": [
        "Build LearningRateScheduler to have learning rate change in each epoch."
      ]
    },
    {
      "cell_type": "code",
      "metadata": {
        "id": "MPHBinpWKQ0W",
        "colab_type": "code",
        "colab": {}
      },
      "source": [
        "EPOCHS = 20\n",
        "\n",
        "start_lr = 0.00001\n",
        "min_lr = 0.00001\n",
        "max_lr = 0.00005 \n",
        "rampup_epochs = 5\n",
        "sustain_epochs = 0\n",
        "exp_decay = .8\n",
        "\n",
        "def lrfn(epoch):\n",
        "  if epoch < rampup_epochs:\n",
        "    return (max_lr - start_lr)/rampup_epochs * epoch + start_lr\n",
        "  elif epoch < rampup_epochs + sustain_epochs:\n",
        "    return max_lr\n",
        "  else:\n",
        "    return (max_lr - min_lr) * exp_decay**(epoch-rampup_epochs-sustain_epochs) + min_lr\n",
        "    \n",
        "lr_callback = tf.keras.callbacks.LearningRateScheduler(lambda epoch: lrfn(epoch), verbose=True)"
      ],
      "execution_count": 0,
      "outputs": []
    },
    {
      "cell_type": "markdown",
      "metadata": {
        "id": "ftd6TTfMTbWs",
        "colab_type": "text"
      },
      "source": [
        "Then we can train our RNN using the `fit` method via the Keras API."
      ]
    },
    {
      "cell_type": "code",
      "metadata": {
        "id": "ujuB11svqA2T",
        "colab_type": "code",
        "outputId": "27e45619-edae-4a4f-dc16-0511c61bd31b",
        "colab": {
          "base_uri": "https://localhost:8080/",
          "height": 1000
        }
      },
      "source": [
        "history2 = rnn_model.fit(train_comments, train_labels, batch_size=32, epochs=20, validation_data=(valid_comments, test_labels),callbacks=[lr_callback])"
      ],
      "execution_count": 51,
      "outputs": [
        {
          "output_type": "stream",
          "text": [
            "\n",
            "Epoch 00001: LearningRateScheduler reducing learning rate to 1e-05.\n",
            "Epoch 1/20\n",
            "40/40 [==============================] - 1s 27ms/step - loss: 0.6836 - accuracy: 0.7449 - val_loss: 0.6792 - val_accuracy: 0.7524 - lr: 1.0000e-05\n",
            "\n",
            "Epoch 00002: LearningRateScheduler reducing learning rate to 1.8000000000000004e-05.\n",
            "Epoch 2/20\n",
            "40/40 [==============================] - 1s 18ms/step - loss: 0.6695 - accuracy: 0.7733 - val_loss: 0.6623 - val_accuracy: 0.7559 - lr: 1.8000e-05\n",
            "\n",
            "Epoch 00003: LearningRateScheduler reducing learning rate to 2.6000000000000002e-05.\n",
            "Epoch 3/20\n",
            "40/40 [==============================] - 1s 17ms/step - loss: 0.6451 - accuracy: 0.7709 - val_loss: 0.6288 - val_accuracy: 0.7583 - lr: 2.6000e-05\n",
            "\n",
            "Epoch 00004: LearningRateScheduler reducing learning rate to 3.4000000000000007e-05.\n",
            "Epoch 4/20\n",
            "40/40 [==============================] - 1s 17ms/step - loss: 0.5775 - accuracy: 0.7701 - val_loss: 0.5413 - val_accuracy: 0.7583 - lr: 3.4000e-05\n",
            "\n",
            "Epoch 00005: LearningRateScheduler reducing learning rate to 4.2000000000000004e-05.\n",
            "Epoch 5/20\n",
            "40/40 [==============================] - 1s 17ms/step - loss: 0.5304 - accuracy: 0.7701 - val_loss: 0.5399 - val_accuracy: 0.7583 - lr: 4.2000e-05\n",
            "\n",
            "Epoch 00006: LearningRateScheduler reducing learning rate to 5e-05.\n",
            "Epoch 6/20\n",
            "40/40 [==============================] - 1s 16ms/step - loss: 0.5230 - accuracy: 0.7701 - val_loss: 0.5405 - val_accuracy: 0.7583 - lr: 5.0000e-05\n",
            "\n",
            "Epoch 00007: LearningRateScheduler reducing learning rate to 4.2000000000000004e-05.\n",
            "Epoch 7/20\n",
            "40/40 [==============================] - 1s 17ms/step - loss: 0.5229 - accuracy: 0.7725 - val_loss: 0.5401 - val_accuracy: 0.7583 - lr: 4.2000e-05\n",
            "\n",
            "Epoch 00008: LearningRateScheduler reducing learning rate to 3.5600000000000005e-05.\n",
            "Epoch 8/20\n",
            "40/40 [==============================] - 1s 17ms/step - loss: 0.5099 - accuracy: 0.7749 - val_loss: 0.5316 - val_accuracy: 0.7559 - lr: 3.5600e-05\n",
            "\n",
            "Epoch 00009: LearningRateScheduler reducing learning rate to 3.0480000000000006e-05.\n",
            "Epoch 9/20\n",
            "40/40 [==============================] - 1s 17ms/step - loss: 0.5095 - accuracy: 0.7812 - val_loss: 0.5427 - val_accuracy: 0.7583 - lr: 3.0480e-05\n",
            "\n",
            "Epoch 00010: LearningRateScheduler reducing learning rate to 2.6384000000000004e-05.\n",
            "Epoch 10/20\n",
            "40/40 [==============================] - 1s 17ms/step - loss: 0.5024 - accuracy: 0.7820 - val_loss: 0.5226 - val_accuracy: 0.7571 - lr: 2.6384e-05\n",
            "\n",
            "Epoch 00011: LearningRateScheduler reducing learning rate to 2.3107200000000005e-05.\n",
            "Epoch 11/20\n",
            "40/40 [==============================] - 1s 17ms/step - loss: 0.4970 - accuracy: 0.7796 - val_loss: 0.5193 - val_accuracy: 0.7571 - lr: 2.3107e-05\n",
            "\n",
            "Epoch 00012: LearningRateScheduler reducing learning rate to 2.0485760000000004e-05.\n",
            "Epoch 12/20\n",
            "40/40 [==============================] - 1s 16ms/step - loss: 0.4898 - accuracy: 0.7796 - val_loss: 0.5113 - val_accuracy: 0.7571 - lr: 2.0486e-05\n",
            "\n",
            "Epoch 00013: LearningRateScheduler reducing learning rate to 1.8388608000000004e-05.\n",
            "Epoch 13/20\n",
            "40/40 [==============================] - 1s 16ms/step - loss: 0.4824 - accuracy: 0.7804 - val_loss: 0.5069 - val_accuracy: 0.7571 - lr: 1.8389e-05\n",
            "\n",
            "Epoch 00014: LearningRateScheduler reducing learning rate to 1.6710886400000004e-05.\n",
            "Epoch 14/20\n",
            "40/40 [==============================] - 1s 17ms/step - loss: 0.4731 - accuracy: 0.7796 - val_loss: 0.5002 - val_accuracy: 0.7571 - lr: 1.6711e-05\n",
            "\n",
            "Epoch 00015: LearningRateScheduler reducing learning rate to 1.5368709120000003e-05.\n",
            "Epoch 15/20\n",
            "40/40 [==============================] - 1s 16ms/step - loss: 0.4646 - accuracy: 0.7796 - val_loss: 0.4802 - val_accuracy: 0.7583 - lr: 1.5369e-05\n",
            "\n",
            "Epoch 00016: LearningRateScheduler reducing learning rate to 1.4294967296000005e-05.\n",
            "Epoch 16/20\n",
            "40/40 [==============================] - 1s 16ms/step - loss: 0.4404 - accuracy: 0.7796 - val_loss: 0.4590 - val_accuracy: 0.7571 - lr: 1.4295e-05\n",
            "\n",
            "Epoch 00017: LearningRateScheduler reducing learning rate to 1.3435973836800004e-05.\n",
            "Epoch 17/20\n",
            "40/40 [==============================] - 1s 17ms/step - loss: 0.4102 - accuracy: 0.7812 - val_loss: 0.4291 - val_accuracy: 0.7547 - lr: 1.3436e-05\n",
            "\n",
            "Epoch 00018: LearningRateScheduler reducing learning rate to 1.2748779069440003e-05.\n",
            "Epoch 18/20\n",
            "40/40 [==============================] - 1s 16ms/step - loss: 0.3592 - accuracy: 0.7962 - val_loss: 0.3898 - val_accuracy: 0.7666 - lr: 1.2749e-05\n",
            "\n",
            "Epoch 00019: LearningRateScheduler reducing learning rate to 1.2199023255552003e-05.\n",
            "Epoch 19/20\n",
            "40/40 [==============================] - 1s 16ms/step - loss: 0.2929 - accuracy: 0.8752 - val_loss: 0.3358 - val_accuracy: 0.8436 - lr: 1.2199e-05\n",
            "\n",
            "Epoch 00020: LearningRateScheduler reducing learning rate to 1.1759218604441602e-05.\n",
            "Epoch 20/20\n",
            "40/40 [==============================] - 1s 16ms/step - loss: 0.2248 - accuracy: 0.9510 - val_loss: 0.2844 - val_accuracy: 0.9088 - lr: 1.1759e-05\n"
          ],
          "name": "stdout"
        }
      ]
    },
    {
      "cell_type": "markdown",
      "metadata": {
        "id": "0Seh7e6eRqd7",
        "colab_type": "text"
      },
      "source": [
        "Plot the model accuracy and model Loss"
      ]
    },
    {
      "cell_type": "code",
      "metadata": {
        "id": "cFYedN46AcxQ",
        "colab_type": "code",
        "outputId": "d1ba5916-47b1-4aee-9737-be06c9fd1e70",
        "colab": {
          "base_uri": "https://localhost:8080/",
          "height": 755
        }
      },
      "source": [
        "def display_training_curves(training, validation, title, subplot):\n",
        "  ax = plt.subplot(subplot)\n",
        "  ax.plot(training)\n",
        "  ax.plot(validation)\n",
        "  ax.set_title('model '+ title)\n",
        "  ax.set_ylabel(title)\n",
        "  ax.set_xlabel('epoch')\n",
        "  ax.legend(['training', 'validation'])\n",
        "\n",
        "plt.subplots(figsize=(10,10))\n",
        "plt.tight_layout()\n",
        "display_training_curves(history2.history['accuracy'], history2.history['val_accuracy'], 'accuracy', 211)\n",
        "display_training_curves(history2.history['loss'], history2.history['val_loss'], 'loss', 212)"
      ],
      "execution_count": 53,
      "outputs": [
        {
          "output_type": "display_data",
          "data": {
            "image/png": "[encoded data removed]",
            "text/plain": [
              "<Figure size 720x720 with 2 Axes>"
            ]
          },
          "metadata": {
            "tags": [],
            "needs_background": "light"
          }
        }
      ]
    },
    {
      "cell_type": "markdown",
      "metadata": {
        "id": "r4s4FinfTxIR",
        "colab_type": "text"
      },
      "source": [
        "Model accuracy, Validation Accuracy goes up and loss goes down. Looks good!\n",
        "\n",
        "After training the rnn model for 20 epochs, We have obtained a 0.95 accuracy on training set, and a 0.91 accuracy on validation set "
      ]
    },
    {
      "cell_type": "markdown",
      "metadata": {
        "colab_type": "text",
        "id": "kKkD5M6eoSiN"
      },
      "source": [
        "## 1.5 Prediction using the RNN model\n",
        "\n",
        "Now, we can use our trained RNN model to predict the sentiments for a new set of app reviews.\n",
        "\n",
        "Recall our The Testing data set used for prediction are the newly pre-processed app review data in size of 384. It also include customer star rating from 1 to 5"
      ]
    },
    {
      "cell_type": "code",
      "metadata": {
        "id": "VzBz_rXLlJjH",
        "colab_type": "code",
        "colab": {}
      },
      "source": [
        "TEST_PATH = ROOT_PATH + \"/Dataset3.csv\"\n",
        "test_data = pd.read_csv(TEST_PATH)[['processed_text','score']]"
      ],
      "execution_count": 0,
      "outputs": []
    },
    {
      "cell_type": "markdown",
      "metadata": {
        "colab_type": "text",
        "id": "JIPcXllKjkdr"
      },
      "source": [
        "Before predict on our rnn model, Apply the same data processing to our test reviews to get 2d array format"
      ]
    },
    {
      "cell_type": "code",
      "metadata": {
        "colab_type": "code",
        "id": "LycQ-ot_jjyu",
        "colab": {}
      },
      "source": [
        "test_comments = test_data['processed_text'].values\n",
        "test_sequences = t.texts_to_sequences(test_comments)\n",
        "test_pad = pad_sequences(test_sequences, maxlen=100, padding='post')"
      ],
      "execution_count": 0,
      "outputs": []
    },
    {
      "cell_type": "markdown",
      "metadata": {
        "id": "G0vjpmsAbT7W",
        "colab_type": "text"
      },
      "source": [
        "Apply `predict_classes` to predict on our rnn_model"
      ]
    },
    {
      "cell_type": "code",
      "metadata": {
        "id": "80wtk3BPbpVv",
        "colab_type": "code",
        "colab": {}
      },
      "source": [
        "predictions = rnn_model.predict_classes(test_pad)"
      ],
      "execution_count": 0,
      "outputs": []
    },
    {
      "cell_type": "markdown",
      "metadata": {
        "id": "f_3fDz0lfGD4",
        "colab_type": "text"
      },
      "source": [
        "Add sentiment column to the dataframe and Randomly sample 10 reviews and Visualize the result."
      ]
    },
    {
      "cell_type": "code",
      "metadata": {
        "id": "Lef0usuWeBZn",
        "colab_type": "code",
        "colab": {}
      },
      "source": [
        "test_data[\"sentiment\"] = np.where(predictions ==1, \"Postive\", \"Negative\")"
      ],
      "execution_count": 0,
      "outputs": []
    },
    {
      "cell_type": "code",
      "metadata": {
        "id": "4KJICAWnefke",
        "colab_type": "code",
        "colab": {
          "base_uri": "https://localhost:8080/",
          "height": 229
        },
        "outputId": "fa33d70d-2a13-4301-b7cd-6cda1cd67c73"
      },
      "source": [
        "pd.set_option('max_colwidth', 800)\n",
        "test_data.sample(n = 5)"
      ],
      "execution_count": 110,
      "outputs": [
        {
          "output_type": "execute_result",
          "data": {
            "text/html": [
              "<div>\n",
              "<style scoped>\n",
              "    .dataframe tbody tr th:only-of-type {\n",
              "        vertical-align: middle;\n",
              "    }\n",
              "\n",
              "    .dataframe tbody tr th {\n",
              "        vertical-align: top;\n",
              "    }\n",
              "\n",
              "    .dataframe thead th {\n",
              "        text-align: right;\n",
              "    }\n",
              "</style>\n",
              "<table border=\"1\" class=\"dataframe\">\n",
              "  <thead>\n",
              "    <tr style=\"text-align: right;\">\n",
              "      <th></th>\n",
              "      <th>processed_text</th>\n",
              "      <th>score</th>\n",
              "      <th>sentiment</th>\n",
              "    </tr>\n",
              "  </thead>\n",
              "  <tbody>\n",
              "    <tr>\n",
              "      <th>196</th>\n",
              "      <td>This Game you to buy Premium as soon as you load it on  However  you can get a 3 day free trial  but it still your  It like a good game  due to graphics  but I would not recommend it</td>\n",
              "      <td>1</td>\n",
              "      <td>Negative</td>\n",
              "    </tr>\n",
              "    <tr>\n",
              "      <th>66</th>\n",
              "      <td>because you have good</td>\n",
              "      <td>5</td>\n",
              "      <td>Postive</td>\n",
              "    </tr>\n",
              "    <tr>\n",
              "      <th>104</th>\n",
              "      <td>i love this Great start and meditation in</td>\n",
              "      <td>5</td>\n",
              "      <td>Postive</td>\n",
              "    </tr>\n",
              "    <tr>\n",
              "      <th>364</th>\n",
              "      <td>game  but it old real fast  nothing on it really much so it is very repetitive</td>\n",
              "      <td>2</td>\n",
              "      <td>Negative</td>\n",
              "    </tr>\n",
              "    <tr>\n",
              "      <th>248</th>\n",
              "      <td>very good lots of good</td>\n",
              "      <td>5</td>\n",
              "      <td>Postive</td>\n",
              "    </tr>\n",
              "  </tbody>\n",
              "</table>\n",
              "</div>"
            ],
            "text/plain": [
              "                                                                                                                                                                              processed_text  ...  sentiment\n",
              "196  This Game you to buy Premium as soon as you load it on  However  you can get a 3 day free trial  but it still your  It like a good game  due to graphics  but I would not recommend it   ...   Negative\n",
              "66                                                                                                                                                                     because you have good  ...    Postive\n",
              "104                                                                                                                                                i love this Great start and meditation in  ...    Postive\n",
              "364                                                                                                          game  but it old real fast  nothing on it really much so it is very repetitive   ...   Negative\n",
              "248                                                                                                                                                                   very good lots of good  ...    Postive\n",
              "\n",
              "[5 rows x 3 columns]"
            ]
          },
          "metadata": {
            "tags": []
          },
          "execution_count": 110
        }
      ]
    },
    {
      "cell_type": "markdown",
      "metadata": {
        "id": "EpMvCGwpfmCx",
        "colab_type": "text"
      },
      "source": [
        "Above result looks mostly correctly classified, but there do exist cases of misclassfication! Check mis-classification rate:"
      ]
    },
    {
      "cell_type": "code",
      "metadata": {
        "id": "4ku8GACLpBjS",
        "colab_type": "code",
        "colab": {
          "base_uri": "https://localhost:8080/",
          "height": 34
        },
        "outputId": "b07fd46d-cac4-44c8-8948-4e18e239167a"
      },
      "source": [
        "print(\"Misclassification:\",len(test_data[((test_data.score >=4) & (test_data.sentiment ==\"Negative\")) | ((test_data.score <=2) & (test_data.sentiment ==\"Positive\")) ])/len(test_data))"
      ],
      "execution_count": 115,
      "outputs": [
        {
          "output_type": "stream",
          "text": [
            "Misclassification: 0.09895833333333333\n"
          ],
          "name": "stdout"
        }
      ]
    },
    {
      "cell_type": "code",
      "metadata": {
        "id": "sApIbJqFgkuD",
        "colab_type": "code",
        "colab": {}
      },
      "source": [
        "test_data.to_csv(\"sentiment.csv\")"
      ],
      "execution_count": 0,
      "outputs": []
    },
    {
      "cell_type": "markdown",
      "metadata": {
        "id": "WO8jd5ksgxDh",
        "colab_type": "text"
      },
      "source": [
        "Further Manually check could be taken on the csv file."
      ]
    },
    {
      "cell_type": "markdown",
      "metadata": {
        "id": "mYDknrLLgCX5",
        "colab_type": "text"
      },
      "source": [
        "## 1.6 Conclusion\n",
        "\n",
        "In this mini project, we trained a Recurrent Neural Network (RNN) model with a LSTM network layer, and with changing learning rate. Then we apply the model to predict App reviews sentiment on newly test dataset into either \"Positive\", or \"Negative\". \n",
        "\n",
        "The overall result is acceptable, furtherly other model could be further attempted to achieve lower misclassification rate."
      ]
    }
  ]
}