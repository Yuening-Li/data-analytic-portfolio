{
 "cells": [
  {
   "cell_type": "code",
   "execution_count": 1,
   "metadata": {},
   "outputs": [],
   "source": [
    "import numpy as np\n",
    "import pandas as pd\n",
    "import shapefile as shp\n",
    "import matplotlib.pyplot as plt\n",
    "import seaborn as sns"
   ]
  },
  {
   "cell_type": "code",
   "execution_count": 2,
   "metadata": {},
   "outputs": [
    {
     "name": "stdout",
     "output_type": "stream",
     "text": [
      "F:\\UBC_Okanagan\\Courses\\DATA 551 Dataviz II\\data_551\\Project\n"
     ]
    }
   ],
   "source": [
    "%cd F:\\UBC_Okanagan\\Courses\\DATA 551 Dataviz II\\data_551\\Project\n",
    "all_ny_data = pd.read_csv(\"./arcos-ny-statewide-itemized.csv\",  usecols = ['BUYER_COUNTY','TRANSACTION_DATE','CALC_BASE_WT_IN_GM','QUANTITY','DRUG_NAME'])\n",
    "all_ca_data = pd.read_csv(\"./arcos-ca-statewide-itemized.csv\",  usecols = ['BUYER_COUNTY','TRANSACTION_DATE','CALC_BASE_WT_IN_GM','QUANTITY','DRUG_NAME'])"
   ]
  },
  {
   "cell_type": "code",
   "execution_count": 3,
   "metadata": {},
   "outputs": [],
   "source": [
    "both_data = [all_ny_data, all_ca_data]\n",
    "both_data = pd.concat(both_data)\n",
    "both_data.to_csv('NY_CA_export_data.csv') "
   ]
  },
  {
   "cell_type": "code",
   "execution_count": 5,
   "metadata": {},
   "outputs": [],
   "source": [
    "both_data['TRANSACTION_DATE'] = both_data['TRANSACTION_DATE'].astype(str)\n",
    "both_data['Year'] = both_data['TRANSACTION_DATE'].str[-6:-2]"
   ]
  },
  {
   "cell_type": "code",
   "execution_count": 6,
   "metadata": {
    "scrolled": true
   },
   "outputs": [],
   "source": [
    "both_data = both_data[both_data['Year'] != 'n']"
   ]
  },
  {
   "cell_type": "code",
   "execution_count": 7,
   "metadata": {},
   "outputs": [],
   "source": [
    "both_data['Year'] = both_data['Year'].astype(int)"
   ]
  },
  {
   "cell_type": "code",
   "execution_count": 8,
   "metadata": {},
   "outputs": [
    {
     "data": {
      "text/html": [
       "<div>\n",
       "<style scoped>\n",
       "    .dataframe tbody tr th:only-of-type {\n",
       "        vertical-align: middle;\n",
       "    }\n",
       "\n",
       "    .dataframe tbody tr th {\n",
       "        vertical-align: top;\n",
       "    }\n",
       "\n",
       "    .dataframe thead th {\n",
       "        text-align: right;\n",
       "    }\n",
       "</style>\n",
       "<table border=\"1\" class=\"dataframe\">\n",
       "  <thead>\n",
       "    <tr style=\"text-align: right;\">\n",
       "      <th></th>\n",
       "      <th>BUYER_COUNTY</th>\n",
       "      <th>DRUG_NAME</th>\n",
       "      <th>QUANTITY</th>\n",
       "      <th>TRANSACTION_DATE</th>\n",
       "      <th>CALC_BASE_WT_IN_GM</th>\n",
       "      <th>Year</th>\n",
       "    </tr>\n",
       "  </thead>\n",
       "  <tbody>\n",
       "    <tr>\n",
       "      <th>0</th>\n",
       "      <td>OSWEGO</td>\n",
       "      <td>HYDROCODONE</td>\n",
       "      <td>4.0</td>\n",
       "      <td>10232006.0</td>\n",
       "      <td>2.42160</td>\n",
       "      <td>2006</td>\n",
       "    </tr>\n",
       "    <tr>\n",
       "      <th>1</th>\n",
       "      <td>OSWEGO</td>\n",
       "      <td>HYDROCODONE</td>\n",
       "      <td>2.0</td>\n",
       "      <td>10062006.0</td>\n",
       "      <td>4.54050</td>\n",
       "      <td>2006</td>\n",
       "    </tr>\n",
       "    <tr>\n",
       "      <th>2</th>\n",
       "      <td>OSWEGO</td>\n",
       "      <td>HYDROCODONE</td>\n",
       "      <td>2.0</td>\n",
       "      <td>3162007.0</td>\n",
       "      <td>0.90810</td>\n",
       "      <td>2007</td>\n",
       "    </tr>\n",
       "    <tr>\n",
       "      <th>3</th>\n",
       "      <td>OSWEGO</td>\n",
       "      <td>HYDROCODONE</td>\n",
       "      <td>2.0</td>\n",
       "      <td>5182007.0</td>\n",
       "      <td>0.90810</td>\n",
       "      <td>2007</td>\n",
       "    </tr>\n",
       "    <tr>\n",
       "      <th>4</th>\n",
       "      <td>OSWEGO</td>\n",
       "      <td>HYDROCODONE</td>\n",
       "      <td>5.0</td>\n",
       "      <td>8242007.0</td>\n",
       "      <td>3.02700</td>\n",
       "      <td>2007</td>\n",
       "    </tr>\n",
       "    <tr>\n",
       "      <th>5</th>\n",
       "      <td>OSWEGO</td>\n",
       "      <td>HYDROCODONE</td>\n",
       "      <td>2.0</td>\n",
       "      <td>8172007.0</td>\n",
       "      <td>3.02700</td>\n",
       "      <td>2007</td>\n",
       "    </tr>\n",
       "    <tr>\n",
       "      <th>6</th>\n",
       "      <td>OSWEGO</td>\n",
       "      <td>HYDROCODONE</td>\n",
       "      <td>2.0</td>\n",
       "      <td>12072007.0</td>\n",
       "      <td>3.02700</td>\n",
       "      <td>2007</td>\n",
       "    </tr>\n",
       "    <tr>\n",
       "      <th>7</th>\n",
       "      <td>OSWEGO</td>\n",
       "      <td>HYDROCODONE</td>\n",
       "      <td>2.0</td>\n",
       "      <td>7252008.0</td>\n",
       "      <td>4.54050</td>\n",
       "      <td>2008</td>\n",
       "    </tr>\n",
       "    <tr>\n",
       "      <th>8</th>\n",
       "      <td>OSWEGO</td>\n",
       "      <td>HYDROCODONE</td>\n",
       "      <td>2.0</td>\n",
       "      <td>1232009.0</td>\n",
       "      <td>3.02700</td>\n",
       "      <td>2009</td>\n",
       "    </tr>\n",
       "    <tr>\n",
       "      <th>9</th>\n",
       "      <td>OSWEGO</td>\n",
       "      <td>HYDROCODONE</td>\n",
       "      <td>3.0</td>\n",
       "      <td>7242009.0</td>\n",
       "      <td>4.54050</td>\n",
       "      <td>2009</td>\n",
       "    </tr>\n",
       "    <tr>\n",
       "      <th>10</th>\n",
       "      <td>OSWEGO</td>\n",
       "      <td>HYDROCODONE</td>\n",
       "      <td>2.0</td>\n",
       "      <td>7312009.0</td>\n",
       "      <td>1.21080</td>\n",
       "      <td>2009</td>\n",
       "    </tr>\n",
       "    <tr>\n",
       "      <th>11</th>\n",
       "      <td>OSWEGO</td>\n",
       "      <td>HYDROCODONE</td>\n",
       "      <td>7.0</td>\n",
       "      <td>7172009.0</td>\n",
       "      <td>4.23780</td>\n",
       "      <td>2009</td>\n",
       "    </tr>\n",
       "    <tr>\n",
       "      <th>12</th>\n",
       "      <td>OSWEGO</td>\n",
       "      <td>HYDROCODONE</td>\n",
       "      <td>8.0</td>\n",
       "      <td>8212009.0</td>\n",
       "      <td>4.84320</td>\n",
       "      <td>2009</td>\n",
       "    </tr>\n",
       "    <tr>\n",
       "      <th>13</th>\n",
       "      <td>OSWEGO</td>\n",
       "      <td>HYDROCODONE</td>\n",
       "      <td>7.0</td>\n",
       "      <td>10232009.0</td>\n",
       "      <td>4.23780</td>\n",
       "      <td>2009</td>\n",
       "    </tr>\n",
       "    <tr>\n",
       "      <th>14</th>\n",
       "      <td>OSWEGO</td>\n",
       "      <td>HYDROCODONE</td>\n",
       "      <td>3.0</td>\n",
       "      <td>11272009.0</td>\n",
       "      <td>6.81075</td>\n",
       "      <td>2009</td>\n",
       "    </tr>\n",
       "    <tr>\n",
       "      <th>15</th>\n",
       "      <td>OSWEGO</td>\n",
       "      <td>HYDROCODONE</td>\n",
       "      <td>7.0</td>\n",
       "      <td>11272009.0</td>\n",
       "      <td>4.23780</td>\n",
       "      <td>2009</td>\n",
       "    </tr>\n",
       "    <tr>\n",
       "      <th>16</th>\n",
       "      <td>OSWEGO</td>\n",
       "      <td>HYDROCODONE</td>\n",
       "      <td>1.0</td>\n",
       "      <td>1222010.0</td>\n",
       "      <td>3.02700</td>\n",
       "      <td>2010</td>\n",
       "    </tr>\n",
       "    <tr>\n",
       "      <th>17</th>\n",
       "      <td>OSWEGO</td>\n",
       "      <td>HYDROCODONE</td>\n",
       "      <td>5.0</td>\n",
       "      <td>1152010.0</td>\n",
       "      <td>3.02700</td>\n",
       "      <td>2010</td>\n",
       "    </tr>\n",
       "    <tr>\n",
       "      <th>18</th>\n",
       "      <td>OSWEGO</td>\n",
       "      <td>HYDROCODONE</td>\n",
       "      <td>5.0</td>\n",
       "      <td>4302010.0</td>\n",
       "      <td>2.27025</td>\n",
       "      <td>2010</td>\n",
       "    </tr>\n",
       "    <tr>\n",
       "      <th>19</th>\n",
       "      <td>OSWEGO</td>\n",
       "      <td>HYDROCODONE</td>\n",
       "      <td>10.0</td>\n",
       "      <td>4022010.0</td>\n",
       "      <td>6.05400</td>\n",
       "      <td>2010</td>\n",
       "    </tr>\n",
       "  </tbody>\n",
       "</table>\n",
       "</div>"
      ],
      "text/plain": [
       "   BUYER_COUNTY    DRUG_NAME  QUANTITY TRANSACTION_DATE  CALC_BASE_WT_IN_GM  \\\n",
       "0        OSWEGO  HYDROCODONE       4.0       10232006.0             2.42160   \n",
       "1        OSWEGO  HYDROCODONE       2.0       10062006.0             4.54050   \n",
       "2        OSWEGO  HYDROCODONE       2.0        3162007.0             0.90810   \n",
       "3        OSWEGO  HYDROCODONE       2.0        5182007.0             0.90810   \n",
       "4        OSWEGO  HYDROCODONE       5.0        8242007.0             3.02700   \n",
       "5        OSWEGO  HYDROCODONE       2.0        8172007.0             3.02700   \n",
       "6        OSWEGO  HYDROCODONE       2.0       12072007.0             3.02700   \n",
       "7        OSWEGO  HYDROCODONE       2.0        7252008.0             4.54050   \n",
       "8        OSWEGO  HYDROCODONE       2.0        1232009.0             3.02700   \n",
       "9        OSWEGO  HYDROCODONE       3.0        7242009.0             4.54050   \n",
       "10       OSWEGO  HYDROCODONE       2.0        7312009.0             1.21080   \n",
       "11       OSWEGO  HYDROCODONE       7.0        7172009.0             4.23780   \n",
       "12       OSWEGO  HYDROCODONE       8.0        8212009.0             4.84320   \n",
       "13       OSWEGO  HYDROCODONE       7.0       10232009.0             4.23780   \n",
       "14       OSWEGO  HYDROCODONE       3.0       11272009.0             6.81075   \n",
       "15       OSWEGO  HYDROCODONE       7.0       11272009.0             4.23780   \n",
       "16       OSWEGO  HYDROCODONE       1.0        1222010.0             3.02700   \n",
       "17       OSWEGO  HYDROCODONE       5.0        1152010.0             3.02700   \n",
       "18       OSWEGO  HYDROCODONE       5.0        4302010.0             2.27025   \n",
       "19       OSWEGO  HYDROCODONE      10.0        4022010.0             6.05400   \n",
       "\n",
       "    Year  \n",
       "0   2006  \n",
       "1   2006  \n",
       "2   2007  \n",
       "3   2007  \n",
       "4   2007  \n",
       "5   2007  \n",
       "6   2007  \n",
       "7   2008  \n",
       "8   2009  \n",
       "9   2009  \n",
       "10  2009  \n",
       "11  2009  \n",
       "12  2009  \n",
       "13  2009  \n",
       "14  2009  \n",
       "15  2009  \n",
       "16  2010  \n",
       "17  2010  \n",
       "18  2010  \n",
       "19  2010  "
      ]
     },
     "execution_count": 8,
     "metadata": {},
     "output_type": "execute_result"
    }
   ],
   "source": [
    "both_data.head(20)"
   ]
  },
  {
   "cell_type": "code",
   "execution_count": 9,
   "metadata": {},
   "outputs": [
    {
     "data": {
      "text/plain": [
       "BUYER_COUNTY           object\n",
       "DRUG_NAME              object\n",
       "QUANTITY              float64\n",
       "TRANSACTION_DATE       object\n",
       "CALC_BASE_WT_IN_GM    float64\n",
       "Year                    int32\n",
       "dtype: object"
      ]
     },
     "execution_count": 9,
     "metadata": {},
     "output_type": "execute_result"
    }
   ],
   "source": [
    "both_data.dtypes"
   ]
  },
  {
   "cell_type": "code",
   "execution_count": 10,
   "metadata": {},
   "outputs": [],
   "source": [
    "both_data.to_csv('both_data.csv') "
   ]
  },
  {
   "cell_type": "code",
   "execution_count": 13,
   "metadata": {},
   "outputs": [
    {
     "data": {
      "text/plain": [
       "Year                        int64\n",
       "State                      object\n",
       "BUYER_COUNTY               object\n",
       "Model-based Death Rate    float64\n",
       "dtype: object"
      ]
     },
     "execution_count": 13,
     "metadata": {},
     "output_type": "execute_result"
    }
   ],
   "source": [
    "death_Data = pd.read_excel ('death_Data.xlsx')\n",
    "death_Data[\"BUYER_COUNTY\"] = death_Data[\"BUYER_COUNTY\"].str.upper()\n",
    "death_Data[\"BUYER_COUNTY\"]=death_Data[\"BUYER_COUNTY\"].str.slice(0, -11)\n",
    "#death_Data[\"BUYER_COUNTY\"] = death_Data[\"BUYER_COUNTY\"].str.upper()\n",
    "\n",
    "#print (death_Data)\n",
    "\n",
    "death_Data.dtypes"
   ]
  },
  {
   "cell_type": "code",
   "execution_count": 14,
   "metadata": {},
   "outputs": [],
   "source": [
    "real_data = pd.merge(both_data, death_Data, on=['BUYER_COUNTY', 'Year'], how='left')"
   ]
  },
  {
   "cell_type": "code",
   "execution_count": 15,
   "metadata": {},
   "outputs": [],
   "source": [
    "real_data.to_csv('real_data.csv') "
   ]
  },
  {
   "cell_type": "code",
   "execution_count": 16,
   "metadata": {},
   "outputs": [
    {
     "data": {
      "text/plain": [
       "Year  State     \n",
       "2006  California    1.827539e+07\n",
       "      New York      3.999471e+06\n",
       "2007  California    2.068077e+07\n",
       "      New York      4.292337e+06\n",
       "2008  California    2.188429e+07\n",
       "      New York      4.890259e+06\n",
       "2009  California    2.333338e+07\n",
       "      New York      4.833051e+06\n",
       "2010  California    2.499275e+07\n",
       "      New York      5.713316e+06\n",
       "2011  California    2.714749e+07\n",
       "      New York      6.749721e+06\n",
       "2012  California    2.542539e+07\n",
       "      New York      6.725844e+06\n",
       "2013  California    2.786491e+07\n",
       "      New York      7.585644e+06\n",
       "2014  California    2.570655e+07\n",
       "      New York      7.316463e+06\n",
       "Name: Model-based Death Rate, dtype: float64"
      ]
     },
     "execution_count": 16,
     "metadata": {},
     "output_type": "execute_result"
    }
   ],
   "source": [
    "real_data\n",
    "temp = real_data.groupby(['Year', 'State'])['Model-based Death Rate'].sum()"
   ]
  },
  {
   "cell_type": "code",
   "execution_count": 19,
   "metadata": {},
   "outputs": [
    {
     "data": {
      "image/png": "[encoded data removed]",
      "text/plain": [
       "<Figure size 432x288 with 1 Axes>"
      ]
     },
     "metadata": {
      "needs_background": "light"
     },
     "output_type": "display_data"
    }
   ],
   "source": [
    "temp = real_data.groupby(['Year', 'State'])['Model-based Death Rate'].sum().unstack('State')\n",
    "p= temp.plot(kind='bar', stacked=False).legend(loc='upper center', bbox_to_anchor=(1.45, 0.8), shadow=True, ncol=1)"
   ]
  },
  {
   "cell_type": "code",
   "execution_count": null,
   "metadata": {},
   "outputs": [],
   "source": []
  }
 ],
 "metadata": {
  "kernelspec": {
   "display_name": "Python 3",
   "language": "python",
   "name": "python3"
  },
  "language_info": {
   "codemirror_mode": {
    "name": "ipython",
    "version": 3
   },
   "file_extension": ".py",
   "mimetype": "text/x-python",
   "name": "python",
   "nbconvert_exporter": "python",
   "pygments_lexer": "ipython3",
   "version": "3.7.3"
  }
 },
 "nbformat": 4,
 "nbformat_minor": 2
}
